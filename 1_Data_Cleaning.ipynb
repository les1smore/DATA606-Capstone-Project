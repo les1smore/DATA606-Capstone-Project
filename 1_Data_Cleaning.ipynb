{
  "nbformat": 4,
  "nbformat_minor": 0,
  "metadata": {
    "colab": {
      "provenance": [],
      "authorship_tag": "ABX9TyOTlpzZ/exl6C61/9Ik+lXr",
      "include_colab_link": true
    },
    "kernelspec": {
      "name": "python3",
      "display_name": "Python 3"
    },
    "language_info": {
      "name": "python"
    }
  },
  "cells": [
    {
      "cell_type": "markdown",
      "metadata": {
        "id": "view-in-github",
        "colab_type": "text"
      },
      "source": [
        "<a href=\"https://colab.research.google.com/github/les1smore/DATA606-Capstone-Project/blob/main/1_Data_Cleaning.ipynb\" target=\"_parent\"><img src=\"https://colab.research.google.com/assets/colab-badge.svg\" alt=\"Open In Colab\"/></a>"
      ]
    },
    {
      "cell_type": "markdown",
      "source": [
        "# Loding data and necessary libraries"
      ],
      "metadata": {
        "id": "3rPwF5X2xyPk"
      }
    },
    {
      "cell_type": "code",
      "execution_count": null,
      "metadata": {
        "id": "O1_ZMV2nelIn",
        "colab": {
          "base_uri": "https://localhost:8080/"
        },
        "outputId": "522a7983-5daf-4d0b-8e45-dfb6897157bd"
      },
      "outputs": [
        {
          "output_type": "stream",
          "name": "stdout",
          "text": [
            "Mounted at /content/gdrive/\n"
          ]
        }
      ],
      "source": [
        "from google.colab import drive\n",
        "drive.mount('/content/gdrive/')"
      ]
    },
    {
      "cell_type": "code",
      "source": [
        "import pandas as pd\n",
        "import numpy as np\n",
        "import seaborn as sns\n",
        "sns.set_style('darkgrid')"
      ],
      "metadata": {
        "id": "cvqszq3Ff_pO"
      },
      "execution_count": null,
      "outputs": []
    },
    {
      "cell_type": "code",
      "source": [
        "Data_2015 = pd.read_csv('/content/gdrive/Shareddrives/Data_606_Capstone_Project/Project_Files/2015.csv')"
      ],
      "metadata": {
        "id": "j5ZJgYf6fJaE"
      },
      "execution_count": null,
      "outputs": []
    },
    {
      "cell_type": "markdown",
      "source": [
        "# Data Cleaning"
      ],
      "metadata": {
        "id": "JBoDnPS5x59Z"
      }
    },
    {
      "cell_type": "code",
      "source": [
        "Data_2015.shape"
      ],
      "metadata": {
        "id": "wVLdAm3tooJF",
        "colab": {
          "base_uri": "https://localhost:8080/"
        },
        "outputId": "5c56d4c0-1ffe-4efa-9577-3d529f4d535f"
      },
      "execution_count": null,
      "outputs": [
        {
          "output_type": "execute_result",
          "data": {
            "text/plain": [
              "(441456, 330)"
            ]
          },
          "metadata": {},
          "execution_count": 5
        }
      ]
    },
    {
      "cell_type": "code",
      "source": [
        "#check that the data by loading\n",
        "Data_2015.head()"
      ],
      "metadata": {
        "id": "iFc81lJPon0-",
        "colab": {
          "base_uri": "https://localhost:8080/",
          "height": 300
        },
        "outputId": "5d13ddbb-a1b2-4455-ad42-bc93668de0e8"
      },
      "execution_count": null,
      "outputs": [
        {
          "output_type": "execute_result",
          "data": {
            "text/plain": [
              "   _STATE  FMONTH        IDATE IMONTH   IDAY    IYEAR  DISPCODE         SEQNO  \\\n",
              "0     1.0     1.0  b'01292015'  b'01'  b'29'  b'2015'    1200.0  2.015000e+09   \n",
              "1     1.0     1.0  b'01202015'  b'01'  b'20'  b'2015'    1100.0  2.015000e+09   \n",
              "2     1.0     1.0  b'02012015'  b'02'  b'01'  b'2015'    1200.0  2.015000e+09   \n",
              "3     1.0     1.0  b'01142015'  b'01'  b'14'  b'2015'    1100.0  2.015000e+09   \n",
              "4     1.0     1.0  b'01142015'  b'01'  b'14'  b'2015'    1100.0  2.015000e+09   \n",
              "\n",
              "           _PSU  CTELENUM  ...  _PAREC1  _PASTAE1  _LMTACT1  _LMTWRK1  \\\n",
              "0  2.015000e+09       1.0  ...      4.0       2.0       1.0       1.0   \n",
              "1  2.015000e+09       1.0  ...      2.0       2.0       3.0       3.0   \n",
              "2  2.015000e+09       1.0  ...      9.0       9.0       9.0       9.0   \n",
              "3  2.015000e+09       1.0  ...      4.0       2.0       1.0       1.0   \n",
              "4  2.015000e+09       1.0  ...      4.0       2.0       1.0       1.0   \n",
              "\n",
              "   _LMTSCL1  _RFSEAT2  _RFSEAT3  _FLSHOT6  _PNEUMO2  _AIDTST3  \n",
              "0       1.0       1.0       1.0       NaN       NaN       1.0  \n",
              "1       4.0       2.0       2.0       NaN       NaN       2.0  \n",
              "2       9.0       9.0       9.0       9.0       9.0       NaN  \n",
              "3       1.0       1.0       1.0       NaN       NaN       9.0  \n",
              "4       1.0       1.0       1.0       NaN       NaN       1.0  \n",
              "\n",
              "[5 rows x 330 columns]"
            ],
            "text/html": [
              "\n",
              "  <div id=\"df-a375190f-2bee-4ac7-a55d-892af78074e8\">\n",
              "    <div class=\"colab-df-container\">\n",
              "      <div>\n",
              "<style scoped>\n",
              "    .dataframe tbody tr th:only-of-type {\n",
              "        vertical-align: middle;\n",
              "    }\n",
              "\n",
              "    .dataframe tbody tr th {\n",
              "        vertical-align: top;\n",
              "    }\n",
              "\n",
              "    .dataframe thead th {\n",
              "        text-align: right;\n",
              "    }\n",
              "</style>\n",
              "<table border=\"1\" class=\"dataframe\">\n",
              "  <thead>\n",
              "    <tr style=\"text-align: right;\">\n",
              "      <th></th>\n",
              "      <th>_STATE</th>\n",
              "      <th>FMONTH</th>\n",
              "      <th>IDATE</th>\n",
              "      <th>IMONTH</th>\n",
              "      <th>IDAY</th>\n",
              "      <th>IYEAR</th>\n",
              "      <th>DISPCODE</th>\n",
              "      <th>SEQNO</th>\n",
              "      <th>_PSU</th>\n",
              "      <th>CTELENUM</th>\n",
              "      <th>...</th>\n",
              "      <th>_PAREC1</th>\n",
              "      <th>_PASTAE1</th>\n",
              "      <th>_LMTACT1</th>\n",
              "      <th>_LMTWRK1</th>\n",
              "      <th>_LMTSCL1</th>\n",
              "      <th>_RFSEAT2</th>\n",
              "      <th>_RFSEAT3</th>\n",
              "      <th>_FLSHOT6</th>\n",
              "      <th>_PNEUMO2</th>\n",
              "      <th>_AIDTST3</th>\n",
              "    </tr>\n",
              "  </thead>\n",
              "  <tbody>\n",
              "    <tr>\n",
              "      <th>0</th>\n",
              "      <td>1.0</td>\n",
              "      <td>1.0</td>\n",
              "      <td>b'01292015'</td>\n",
              "      <td>b'01'</td>\n",
              "      <td>b'29'</td>\n",
              "      <td>b'2015'</td>\n",
              "      <td>1200.0</td>\n",
              "      <td>2.015000e+09</td>\n",
              "      <td>2.015000e+09</td>\n",
              "      <td>1.0</td>\n",
              "      <td>...</td>\n",
              "      <td>4.0</td>\n",
              "      <td>2.0</td>\n",
              "      <td>1.0</td>\n",
              "      <td>1.0</td>\n",
              "      <td>1.0</td>\n",
              "      <td>1.0</td>\n",
              "      <td>1.0</td>\n",
              "      <td>NaN</td>\n",
              "      <td>NaN</td>\n",
              "      <td>1.0</td>\n",
              "    </tr>\n",
              "    <tr>\n",
              "      <th>1</th>\n",
              "      <td>1.0</td>\n",
              "      <td>1.0</td>\n",
              "      <td>b'01202015'</td>\n",
              "      <td>b'01'</td>\n",
              "      <td>b'20'</td>\n",
              "      <td>b'2015'</td>\n",
              "      <td>1100.0</td>\n",
              "      <td>2.015000e+09</td>\n",
              "      <td>2.015000e+09</td>\n",
              "      <td>1.0</td>\n",
              "      <td>...</td>\n",
              "      <td>2.0</td>\n",
              "      <td>2.0</td>\n",
              "      <td>3.0</td>\n",
              "      <td>3.0</td>\n",
              "      <td>4.0</td>\n",
              "      <td>2.0</td>\n",
              "      <td>2.0</td>\n",
              "      <td>NaN</td>\n",
              "      <td>NaN</td>\n",
              "      <td>2.0</td>\n",
              "    </tr>\n",
              "    <tr>\n",
              "      <th>2</th>\n",
              "      <td>1.0</td>\n",
              "      <td>1.0</td>\n",
              "      <td>b'02012015'</td>\n",
              "      <td>b'02'</td>\n",
              "      <td>b'01'</td>\n",
              "      <td>b'2015'</td>\n",
              "      <td>1200.0</td>\n",
              "      <td>2.015000e+09</td>\n",
              "      <td>2.015000e+09</td>\n",
              "      <td>1.0</td>\n",
              "      <td>...</td>\n",
              "      <td>9.0</td>\n",
              "      <td>9.0</td>\n",
              "      <td>9.0</td>\n",
              "      <td>9.0</td>\n",
              "      <td>9.0</td>\n",
              "      <td>9.0</td>\n",
              "      <td>9.0</td>\n",
              "      <td>9.0</td>\n",
              "      <td>9.0</td>\n",
              "      <td>NaN</td>\n",
              "    </tr>\n",
              "    <tr>\n",
              "      <th>3</th>\n",
              "      <td>1.0</td>\n",
              "      <td>1.0</td>\n",
              "      <td>b'01142015'</td>\n",
              "      <td>b'01'</td>\n",
              "      <td>b'14'</td>\n",
              "      <td>b'2015'</td>\n",
              "      <td>1100.0</td>\n",
              "      <td>2.015000e+09</td>\n",
              "      <td>2.015000e+09</td>\n",
              "      <td>1.0</td>\n",
              "      <td>...</td>\n",
              "      <td>4.0</td>\n",
              "      <td>2.0</td>\n",
              "      <td>1.0</td>\n",
              "      <td>1.0</td>\n",
              "      <td>1.0</td>\n",
              "      <td>1.0</td>\n",
              "      <td>1.0</td>\n",
              "      <td>NaN</td>\n",
              "      <td>NaN</td>\n",
              "      <td>9.0</td>\n",
              "    </tr>\n",
              "    <tr>\n",
              "      <th>4</th>\n",
              "      <td>1.0</td>\n",
              "      <td>1.0</td>\n",
              "      <td>b'01142015'</td>\n",
              "      <td>b'01'</td>\n",
              "      <td>b'14'</td>\n",
              "      <td>b'2015'</td>\n",
              "      <td>1100.0</td>\n",
              "      <td>2.015000e+09</td>\n",
              "      <td>2.015000e+09</td>\n",
              "      <td>1.0</td>\n",
              "      <td>...</td>\n",
              "      <td>4.0</td>\n",
              "      <td>2.0</td>\n",
              "      <td>1.0</td>\n",
              "      <td>1.0</td>\n",
              "      <td>1.0</td>\n",
              "      <td>1.0</td>\n",
              "      <td>1.0</td>\n",
              "      <td>NaN</td>\n",
              "      <td>NaN</td>\n",
              "      <td>1.0</td>\n",
              "    </tr>\n",
              "  </tbody>\n",
              "</table>\n",
              "<p>5 rows × 330 columns</p>\n",
              "</div>\n",
              "      <button class=\"colab-df-convert\" onclick=\"convertToInteractive('df-a375190f-2bee-4ac7-a55d-892af78074e8')\"\n",
              "              title=\"Convert this dataframe to an interactive table.\"\n",
              "              style=\"display:none;\">\n",
              "        \n",
              "  <svg xmlns=\"http://www.w3.org/2000/svg\" height=\"24px\"viewBox=\"0 0 24 24\"\n",
              "       width=\"24px\">\n",
              "    <path d=\"M0 0h24v24H0V0z\" fill=\"none\"/>\n",
              "    <path d=\"M18.56 5.44l.94 2.06.94-2.06 2.06-.94-2.06-.94-.94-2.06-.94 2.06-2.06.94zm-11 1L8.5 8.5l.94-2.06 2.06-.94-2.06-.94L8.5 2.5l-.94 2.06-2.06.94zm10 10l.94 2.06.94-2.06 2.06-.94-2.06-.94-.94-2.06-.94 2.06-2.06.94z\"/><path d=\"M17.41 7.96l-1.37-1.37c-.4-.4-.92-.59-1.43-.59-.52 0-1.04.2-1.43.59L10.3 9.45l-7.72 7.72c-.78.78-.78 2.05 0 2.83L4 21.41c.39.39.9.59 1.41.59.51 0 1.02-.2 1.41-.59l7.78-7.78 2.81-2.81c.8-.78.8-2.07 0-2.86zM5.41 20L4 18.59l7.72-7.72 1.47 1.35L5.41 20z\"/>\n",
              "  </svg>\n",
              "      </button>\n",
              "      \n",
              "  <style>\n",
              "    .colab-df-container {\n",
              "      display:flex;\n",
              "      flex-wrap:wrap;\n",
              "      gap: 12px;\n",
              "    }\n",
              "\n",
              "    .colab-df-convert {\n",
              "      background-color: #E8F0FE;\n",
              "      border: none;\n",
              "      border-radius: 50%;\n",
              "      cursor: pointer;\n",
              "      display: none;\n",
              "      fill: #1967D2;\n",
              "      height: 32px;\n",
              "      padding: 0 0 0 0;\n",
              "      width: 32px;\n",
              "    }\n",
              "\n",
              "    .colab-df-convert:hover {\n",
              "      background-color: #E2EBFA;\n",
              "      box-shadow: 0px 1px 2px rgba(60, 64, 67, 0.3), 0px 1px 3px 1px rgba(60, 64, 67, 0.15);\n",
              "      fill: #174EA6;\n",
              "    }\n",
              "\n",
              "    [theme=dark] .colab-df-convert {\n",
              "      background-color: #3B4455;\n",
              "      fill: #D2E3FC;\n",
              "    }\n",
              "\n",
              "    [theme=dark] .colab-df-convert:hover {\n",
              "      background-color: #434B5C;\n",
              "      box-shadow: 0px 1px 3px 1px rgba(0, 0, 0, 0.15);\n",
              "      filter: drop-shadow(0px 1px 2px rgba(0, 0, 0, 0.3));\n",
              "      fill: #FFFFFF;\n",
              "    }\n",
              "  </style>\n",
              "\n",
              "      <script>\n",
              "        const buttonEl =\n",
              "          document.querySelector('#df-a375190f-2bee-4ac7-a55d-892af78074e8 button.colab-df-convert');\n",
              "        buttonEl.style.display =\n",
              "          google.colab.kernel.accessAllowed ? 'block' : 'none';\n",
              "\n",
              "        async function convertToInteractive(key) {\n",
              "          const element = document.querySelector('#df-a375190f-2bee-4ac7-a55d-892af78074e8');\n",
              "          const dataTable =\n",
              "            await google.colab.kernel.invokeFunction('convertToInteractive',\n",
              "                                                     [key], {});\n",
              "          if (!dataTable) return;\n",
              "\n",
              "          const docLinkHtml = 'Like what you see? Visit the ' +\n",
              "            '<a target=\"_blank\" href=https://colab.research.google.com/notebooks/data_table.ipynb>data table notebook</a>'\n",
              "            + ' to learn more about interactive tables.';\n",
              "          element.innerHTML = '';\n",
              "          dataTable['output_type'] = 'display_data';\n",
              "          await google.colab.output.renderOutput(dataTable, element);\n",
              "          const docLink = document.createElement('div');\n",
              "          docLink.innerHTML = docLinkHtml;\n",
              "          element.appendChild(docLink);\n",
              "        }\n",
              "      </script>\n",
              "    </div>\n",
              "  </div>\n",
              "  "
            ]
          },
          "metadata": {},
          "execution_count": 6
        }
      ]
    },
    {
      "cell_type": "code",
      "source": [
        "Data_2015.describe()"
      ],
      "metadata": {
        "id": "vciZZ8H4Gh81",
        "colab": {
          "base_uri": "https://localhost:8080/",
          "height": 394
        },
        "outputId": "d3b6202a-7ca1-4681-a4ca-88bd9de527d5"
      },
      "execution_count": null,
      "outputs": [
        {
          "output_type": "execute_result",
          "data": {
            "text/plain": [
              "              _STATE         FMONTH       DISPCODE         SEQNO  \\\n",
              "count  441456.000000  441456.000000  441456.000000  4.414560e+05   \n",
              "mean       29.968715       6.359676    1115.040457  2.015005e+09   \n",
              "std        16.034710       3.487131      35.746794  4.113443e+03   \n",
              "min         1.000000       1.000000    1100.000000  2.015000e+09   \n",
              "25%        19.000000       3.000000    1100.000000  2.015002e+09   \n",
              "50%        29.000000       6.000000    1100.000000  2.015004e+09   \n",
              "75%        44.000000       9.000000    1100.000000  2.015007e+09   \n",
              "max        72.000000      12.000000    1200.000000  2.015023e+09   \n",
              "\n",
              "               _PSU  CTELENUM       PVTRESD1  COLGHOUS  STATERES  \\\n",
              "count  4.414560e+05  254645.0  254645.000000      45.0  254643.0   \n",
              "mean   2.015005e+09       1.0       1.000177       1.0       1.0   \n",
              "std    4.113443e+03       0.0       0.013292       0.0       0.0   \n",
              "min    2.015000e+09       1.0       1.000000       1.0       1.0   \n",
              "25%    2.015002e+09       1.0       1.000000       1.0       1.0   \n",
              "50%    2.015004e+09       1.0       1.000000       1.0       1.0   \n",
              "75%    2.015007e+09       1.0       1.000000       1.0       1.0   \n",
              "max    2.015023e+09       1.0       2.000000       1.0       1.0   \n",
              "\n",
              "            CELLFON3  ...        _PAREC1       _PASTAE1       _LMTACT1  \\\n",
              "count  254646.000000  ...  441456.000000  441456.000000  438657.000000   \n",
              "mean        1.545133  ...       3.494124       2.742695       2.716879   \n",
              "std         0.497960  ...       2.398322       2.449676       1.324145   \n",
              "min         1.000000  ...       1.000000       1.000000       1.000000   \n",
              "25%         1.000000  ...       2.000000       2.000000       2.000000   \n",
              "50%         2.000000  ...       3.000000       2.000000       3.000000   \n",
              "75%         2.000000  ...       4.000000       2.000000       3.000000   \n",
              "max         2.000000  ...       9.000000       9.000000       9.000000   \n",
              "\n",
              "            _LMTWRK1       _LMTSCL1       _RFSEAT2       _RFSEAT3  \\\n",
              "count  438657.000000  438657.000000  441456.000000  441456.000000   \n",
              "mean        2.815149       3.652717       1.824624       1.887028   \n",
              "std         1.356101       1.266730       2.360812       2.351387   \n",
              "min         1.000000       1.000000       1.000000       1.000000   \n",
              "25%         2.000000       3.000000       1.000000       1.000000   \n",
              "50%         3.000000       4.000000       1.000000       1.000000   \n",
              "75%         3.000000       4.000000       1.000000       1.000000   \n",
              "max         9.000000       9.000000       9.000000       9.000000   \n",
              "\n",
              "            _FLSHOT6       _PNEUMO2       _AIDTST3  \n",
              "count  157954.000000  157954.000000  398069.000000  \n",
              "mean        2.290705       2.412259       1.970156  \n",
              "std         2.518086       2.778032       1.441119  \n",
              "min         1.000000       1.000000       1.000000  \n",
              "25%         1.000000       1.000000       1.000000  \n",
              "50%         1.000000       1.000000       2.000000  \n",
              "75%         2.000000       2.000000       2.000000  \n",
              "max         9.000000       9.000000       9.000000  \n",
              "\n",
              "[8 rows x 323 columns]"
            ],
            "text/html": [
              "\n",
              "  <div id=\"df-7657cd96-eb94-456f-9f2e-54994c6471f3\">\n",
              "    <div class=\"colab-df-container\">\n",
              "      <div>\n",
              "<style scoped>\n",
              "    .dataframe tbody tr th:only-of-type {\n",
              "        vertical-align: middle;\n",
              "    }\n",
              "\n",
              "    .dataframe tbody tr th {\n",
              "        vertical-align: top;\n",
              "    }\n",
              "\n",
              "    .dataframe thead th {\n",
              "        text-align: right;\n",
              "    }\n",
              "</style>\n",
              "<table border=\"1\" class=\"dataframe\">\n",
              "  <thead>\n",
              "    <tr style=\"text-align: right;\">\n",
              "      <th></th>\n",
              "      <th>_STATE</th>\n",
              "      <th>FMONTH</th>\n",
              "      <th>DISPCODE</th>\n",
              "      <th>SEQNO</th>\n",
              "      <th>_PSU</th>\n",
              "      <th>CTELENUM</th>\n",
              "      <th>PVTRESD1</th>\n",
              "      <th>COLGHOUS</th>\n",
              "      <th>STATERES</th>\n",
              "      <th>CELLFON3</th>\n",
              "      <th>...</th>\n",
              "      <th>_PAREC1</th>\n",
              "      <th>_PASTAE1</th>\n",
              "      <th>_LMTACT1</th>\n",
              "      <th>_LMTWRK1</th>\n",
              "      <th>_LMTSCL1</th>\n",
              "      <th>_RFSEAT2</th>\n",
              "      <th>_RFSEAT3</th>\n",
              "      <th>_FLSHOT6</th>\n",
              "      <th>_PNEUMO2</th>\n",
              "      <th>_AIDTST3</th>\n",
              "    </tr>\n",
              "  </thead>\n",
              "  <tbody>\n",
              "    <tr>\n",
              "      <th>count</th>\n",
              "      <td>441456.000000</td>\n",
              "      <td>441456.000000</td>\n",
              "      <td>441456.000000</td>\n",
              "      <td>4.414560e+05</td>\n",
              "      <td>4.414560e+05</td>\n",
              "      <td>254645.0</td>\n",
              "      <td>254645.000000</td>\n",
              "      <td>45.0</td>\n",
              "      <td>254643.0</td>\n",
              "      <td>254646.000000</td>\n",
              "      <td>...</td>\n",
              "      <td>441456.000000</td>\n",
              "      <td>441456.000000</td>\n",
              "      <td>438657.000000</td>\n",
              "      <td>438657.000000</td>\n",
              "      <td>438657.000000</td>\n",
              "      <td>441456.000000</td>\n",
              "      <td>441456.000000</td>\n",
              "      <td>157954.000000</td>\n",
              "      <td>157954.000000</td>\n",
              "      <td>398069.000000</td>\n",
              "    </tr>\n",
              "    <tr>\n",
              "      <th>mean</th>\n",
              "      <td>29.968715</td>\n",
              "      <td>6.359676</td>\n",
              "      <td>1115.040457</td>\n",
              "      <td>2.015005e+09</td>\n",
              "      <td>2.015005e+09</td>\n",
              "      <td>1.0</td>\n",
              "      <td>1.000177</td>\n",
              "      <td>1.0</td>\n",
              "      <td>1.0</td>\n",
              "      <td>1.545133</td>\n",
              "      <td>...</td>\n",
              "      <td>3.494124</td>\n",
              "      <td>2.742695</td>\n",
              "      <td>2.716879</td>\n",
              "      <td>2.815149</td>\n",
              "      <td>3.652717</td>\n",
              "      <td>1.824624</td>\n",
              "      <td>1.887028</td>\n",
              "      <td>2.290705</td>\n",
              "      <td>2.412259</td>\n",
              "      <td>1.970156</td>\n",
              "    </tr>\n",
              "    <tr>\n",
              "      <th>std</th>\n",
              "      <td>16.034710</td>\n",
              "      <td>3.487131</td>\n",
              "      <td>35.746794</td>\n",
              "      <td>4.113443e+03</td>\n",
              "      <td>4.113443e+03</td>\n",
              "      <td>0.0</td>\n",
              "      <td>0.013292</td>\n",
              "      <td>0.0</td>\n",
              "      <td>0.0</td>\n",
              "      <td>0.497960</td>\n",
              "      <td>...</td>\n",
              "      <td>2.398322</td>\n",
              "      <td>2.449676</td>\n",
              "      <td>1.324145</td>\n",
              "      <td>1.356101</td>\n",
              "      <td>1.266730</td>\n",
              "      <td>2.360812</td>\n",
              "      <td>2.351387</td>\n",
              "      <td>2.518086</td>\n",
              "      <td>2.778032</td>\n",
              "      <td>1.441119</td>\n",
              "    </tr>\n",
              "    <tr>\n",
              "      <th>min</th>\n",
              "      <td>1.000000</td>\n",
              "      <td>1.000000</td>\n",
              "      <td>1100.000000</td>\n",
              "      <td>2.015000e+09</td>\n",
              "      <td>2.015000e+09</td>\n",
              "      <td>1.0</td>\n",
              "      <td>1.000000</td>\n",
              "      <td>1.0</td>\n",
              "      <td>1.0</td>\n",
              "      <td>1.000000</td>\n",
              "      <td>...</td>\n",
              "      <td>1.000000</td>\n",
              "      <td>1.000000</td>\n",
              "      <td>1.000000</td>\n",
              "      <td>1.000000</td>\n",
              "      <td>1.000000</td>\n",
              "      <td>1.000000</td>\n",
              "      <td>1.000000</td>\n",
              "      <td>1.000000</td>\n",
              "      <td>1.000000</td>\n",
              "      <td>1.000000</td>\n",
              "    </tr>\n",
              "    <tr>\n",
              "      <th>25%</th>\n",
              "      <td>19.000000</td>\n",
              "      <td>3.000000</td>\n",
              "      <td>1100.000000</td>\n",
              "      <td>2.015002e+09</td>\n",
              "      <td>2.015002e+09</td>\n",
              "      <td>1.0</td>\n",
              "      <td>1.000000</td>\n",
              "      <td>1.0</td>\n",
              "      <td>1.0</td>\n",
              "      <td>1.000000</td>\n",
              "      <td>...</td>\n",
              "      <td>2.000000</td>\n",
              "      <td>2.000000</td>\n",
              "      <td>2.000000</td>\n",
              "      <td>2.000000</td>\n",
              "      <td>3.000000</td>\n",
              "      <td>1.000000</td>\n",
              "      <td>1.000000</td>\n",
              "      <td>1.000000</td>\n",
              "      <td>1.000000</td>\n",
              "      <td>1.000000</td>\n",
              "    </tr>\n",
              "    <tr>\n",
              "      <th>50%</th>\n",
              "      <td>29.000000</td>\n",
              "      <td>6.000000</td>\n",
              "      <td>1100.000000</td>\n",
              "      <td>2.015004e+09</td>\n",
              "      <td>2.015004e+09</td>\n",
              "      <td>1.0</td>\n",
              "      <td>1.000000</td>\n",
              "      <td>1.0</td>\n",
              "      <td>1.0</td>\n",
              "      <td>2.000000</td>\n",
              "      <td>...</td>\n",
              "      <td>3.000000</td>\n",
              "      <td>2.000000</td>\n",
              "      <td>3.000000</td>\n",
              "      <td>3.000000</td>\n",
              "      <td>4.000000</td>\n",
              "      <td>1.000000</td>\n",
              "      <td>1.000000</td>\n",
              "      <td>1.000000</td>\n",
              "      <td>1.000000</td>\n",
              "      <td>2.000000</td>\n",
              "    </tr>\n",
              "    <tr>\n",
              "      <th>75%</th>\n",
              "      <td>44.000000</td>\n",
              "      <td>9.000000</td>\n",
              "      <td>1100.000000</td>\n",
              "      <td>2.015007e+09</td>\n",
              "      <td>2.015007e+09</td>\n",
              "      <td>1.0</td>\n",
              "      <td>1.000000</td>\n",
              "      <td>1.0</td>\n",
              "      <td>1.0</td>\n",
              "      <td>2.000000</td>\n",
              "      <td>...</td>\n",
              "      <td>4.000000</td>\n",
              "      <td>2.000000</td>\n",
              "      <td>3.000000</td>\n",
              "      <td>3.000000</td>\n",
              "      <td>4.000000</td>\n",
              "      <td>1.000000</td>\n",
              "      <td>1.000000</td>\n",
              "      <td>2.000000</td>\n",
              "      <td>2.000000</td>\n",
              "      <td>2.000000</td>\n",
              "    </tr>\n",
              "    <tr>\n",
              "      <th>max</th>\n",
              "      <td>72.000000</td>\n",
              "      <td>12.000000</td>\n",
              "      <td>1200.000000</td>\n",
              "      <td>2.015023e+09</td>\n",
              "      <td>2.015023e+09</td>\n",
              "      <td>1.0</td>\n",
              "      <td>2.000000</td>\n",
              "      <td>1.0</td>\n",
              "      <td>1.0</td>\n",
              "      <td>2.000000</td>\n",
              "      <td>...</td>\n",
              "      <td>9.000000</td>\n",
              "      <td>9.000000</td>\n",
              "      <td>9.000000</td>\n",
              "      <td>9.000000</td>\n",
              "      <td>9.000000</td>\n",
              "      <td>9.000000</td>\n",
              "      <td>9.000000</td>\n",
              "      <td>9.000000</td>\n",
              "      <td>9.000000</td>\n",
              "      <td>9.000000</td>\n",
              "    </tr>\n",
              "  </tbody>\n",
              "</table>\n",
              "<p>8 rows × 323 columns</p>\n",
              "</div>\n",
              "      <button class=\"colab-df-convert\" onclick=\"convertToInteractive('df-7657cd96-eb94-456f-9f2e-54994c6471f3')\"\n",
              "              title=\"Convert this dataframe to an interactive table.\"\n",
              "              style=\"display:none;\">\n",
              "        \n",
              "  <svg xmlns=\"http://www.w3.org/2000/svg\" height=\"24px\"viewBox=\"0 0 24 24\"\n",
              "       width=\"24px\">\n",
              "    <path d=\"M0 0h24v24H0V0z\" fill=\"none\"/>\n",
              "    <path d=\"M18.56 5.44l.94 2.06.94-2.06 2.06-.94-2.06-.94-.94-2.06-.94 2.06-2.06.94zm-11 1L8.5 8.5l.94-2.06 2.06-.94-2.06-.94L8.5 2.5l-.94 2.06-2.06.94zm10 10l.94 2.06.94-2.06 2.06-.94-2.06-.94-.94-2.06-.94 2.06-2.06.94z\"/><path d=\"M17.41 7.96l-1.37-1.37c-.4-.4-.92-.59-1.43-.59-.52 0-1.04.2-1.43.59L10.3 9.45l-7.72 7.72c-.78.78-.78 2.05 0 2.83L4 21.41c.39.39.9.59 1.41.59.51 0 1.02-.2 1.41-.59l7.78-7.78 2.81-2.81c.8-.78.8-2.07 0-2.86zM5.41 20L4 18.59l7.72-7.72 1.47 1.35L5.41 20z\"/>\n",
              "  </svg>\n",
              "      </button>\n",
              "      \n",
              "  <style>\n",
              "    .colab-df-container {\n",
              "      display:flex;\n",
              "      flex-wrap:wrap;\n",
              "      gap: 12px;\n",
              "    }\n",
              "\n",
              "    .colab-df-convert {\n",
              "      background-color: #E8F0FE;\n",
              "      border: none;\n",
              "      border-radius: 50%;\n",
              "      cursor: pointer;\n",
              "      display: none;\n",
              "      fill: #1967D2;\n",
              "      height: 32px;\n",
              "      padding: 0 0 0 0;\n",
              "      width: 32px;\n",
              "    }\n",
              "\n",
              "    .colab-df-convert:hover {\n",
              "      background-color: #E2EBFA;\n",
              "      box-shadow: 0px 1px 2px rgba(60, 64, 67, 0.3), 0px 1px 3px 1px rgba(60, 64, 67, 0.15);\n",
              "      fill: #174EA6;\n",
              "    }\n",
              "\n",
              "    [theme=dark] .colab-df-convert {\n",
              "      background-color: #3B4455;\n",
              "      fill: #D2E3FC;\n",
              "    }\n",
              "\n",
              "    [theme=dark] .colab-df-convert:hover {\n",
              "      background-color: #434B5C;\n",
              "      box-shadow: 0px 1px 3px 1px rgba(0, 0, 0, 0.15);\n",
              "      filter: drop-shadow(0px 1px 2px rgba(0, 0, 0, 0.3));\n",
              "      fill: #FFFFFF;\n",
              "    }\n",
              "  </style>\n",
              "\n",
              "      <script>\n",
              "        const buttonEl =\n",
              "          document.querySelector('#df-7657cd96-eb94-456f-9f2e-54994c6471f3 button.colab-df-convert');\n",
              "        buttonEl.style.display =\n",
              "          google.colab.kernel.accessAllowed ? 'block' : 'none';\n",
              "\n",
              "        async function convertToInteractive(key) {\n",
              "          const element = document.querySelector('#df-7657cd96-eb94-456f-9f2e-54994c6471f3');\n",
              "          const dataTable =\n",
              "            await google.colab.kernel.invokeFunction('convertToInteractive',\n",
              "                                                     [key], {});\n",
              "          if (!dataTable) return;\n",
              "\n",
              "          const docLinkHtml = 'Like what you see? Visit the ' +\n",
              "            '<a target=\"_blank\" href=https://colab.research.google.com/notebooks/data_table.ipynb>data table notebook</a>'\n",
              "            + ' to learn more about interactive tables.';\n",
              "          element.innerHTML = '';\n",
              "          dataTable['output_type'] = 'display_data';\n",
              "          await google.colab.output.renderOutput(dataTable, element);\n",
              "          const docLink = document.createElement('div');\n",
              "          docLink.innerHTML = docLinkHtml;\n",
              "          element.appendChild(docLink);\n",
              "        }\n",
              "      </script>\n",
              "    </div>\n",
              "  </div>\n",
              "  "
            ]
          },
          "metadata": {},
          "execution_count": 7
        }
      ]
    },
    {
      "cell_type": "code",
      "source": [
        "#Lots of null values unbalanced data set"
      ],
      "metadata": {
        "id": "T34YzuRsti3O"
      },
      "execution_count": null,
      "outputs": []
    },
    {
      "cell_type": "code",
      "source": [
        "# select specific columns for now just using 2015 can do for all years\n",
        "Data_2015_selected = Data_2015[['_RFHLTH',\n",
        "                                '_HCVU651',\n",
        "                                '_RFHYPE5',\n",
        "                                '_RFCHOL',\n",
        "                                '_MICHD',\n",
        "                                '_ASTHMS1',\n",
        "                                '_DRDXAR1',\n",
        "                                '_RACE',\n",
        "                                '_BMI5CAT',\n",
        "                                '_RFBMI5',\n",
        "                                '_EDUCAG',\n",
        "                                '_INCOMG',\n",
        "                                '_SMOKER3', \n",
        "                                '_RFDRHV5',\n",
        "                                '_FRTLT1', \n",
        "                                '_VEGLT1', \n",
        "                                '_PACAT1', \n",
        "                                '_PAINDX1',\n",
        "                                '_PASTRNG',\n",
        "                                'PHYSHLTH',\n",
        "                                'MENTHLTH', \n",
        "                                'MEDCOST',\n",
        "                                'CHECKUP1', \n",
        "                                'BPMEDS',\n",
        "                                'CHCSCNCR', \n",
        "                                'CHCOCNCR',\n",
        "                                'CHCCOPD1', \n",
        "                                'ADDEPEV2', \n",
        "                                'CHCKIDNY',\n",
        "                                'DIABETE3',\n",
        "                                'PREDIAB1', \n",
        "                                'INSULIN', \n",
        "                                'VICTRCT4',\n",
        "                                'VIGLUMA2',\n",
        "                                'VIMACDG2', \n",
        "                                'CIMEMLOS',\n",
        "                                'DRADVISE', \n",
        "                                'ASNOSLEP',\n",
        "                                'ADSLEEP', \n",
        "                                'SEX',\n",
        "                                '_AGEG5YR']]"
      ],
      "metadata": {
        "id": "C6CtLerlgimD"
      },
      "execution_count": null,
      "outputs": []
    },
    {
      "cell_type": "code",
      "source": [
        "Data_2015_selected.shape"
      ],
      "metadata": {
        "id": "Zu5seCuQ0LgQ",
        "colab": {
          "base_uri": "https://localhost:8080/"
        },
        "outputId": "93eb8d26-09ef-405c-8cc8-1e7e112f6c9b"
      },
      "execution_count": null,
      "outputs": [
        {
          "output_type": "execute_result",
          "data": {
            "text/plain": [
              "(441456, 41)"
            ]
          },
          "metadata": {},
          "execution_count": 10
        }
      ]
    },
    {
      "cell_type": "code",
      "source": [
        "Data_2015_selected.head()"
      ],
      "metadata": {
        "id": "js09_4AzpVcK",
        "colab": {
          "base_uri": "https://localhost:8080/",
          "height": 300
        },
        "outputId": "ba483f5a-2ac8-4b00-c5f9-eeb2b31e6cb9"
      },
      "execution_count": null,
      "outputs": [
        {
          "output_type": "execute_result",
          "data": {
            "text/plain": [
              "   _RFHLTH  _HCVU651  _RFHYPE5  _RFCHOL  _MICHD  _ASTHMS1  _DRDXAR1  _RACE  \\\n",
              "0      2.0       1.0       2.0      2.0     2.0       1.0       1.0    1.0   \n",
              "1      1.0       2.0       1.0      1.0     2.0       3.0       2.0    1.0   \n",
              "2      2.0       9.0       1.0      2.0     NaN       3.0       1.0    1.0   \n",
              "3      2.0       1.0       2.0      2.0     2.0       3.0       1.0    1.0   \n",
              "4      2.0       1.0       1.0      1.0     2.0       3.0       1.0    1.0   \n",
              "\n",
              "   _BMI5CAT  _RFBMI5  ...  INSULIN  VICTRCT4  VIGLUMA2  VIMACDG2  CIMEMLOS  \\\n",
              "0       4.0      2.0  ...      NaN       NaN       NaN       NaN       NaN   \n",
              "1       3.0      2.0  ...      NaN       NaN       NaN       NaN       1.0   \n",
              "2       2.0      1.0  ...      NaN       NaN       NaN       NaN       NaN   \n",
              "3       3.0      2.0  ...      NaN       NaN       NaN       NaN       1.0   \n",
              "4       2.0      1.0  ...      NaN       NaN       NaN       NaN       2.0   \n",
              "\n",
              "   DRADVISE  ASNOSLEP  ADSLEEP  SEX  _AGEG5YR  \n",
              "0       NaN       NaN      NaN  2.0       9.0  \n",
              "1       2.0       NaN      NaN  2.0       7.0  \n",
              "2       NaN       NaN      NaN  2.0      11.0  \n",
              "3       2.0       NaN      NaN  2.0       9.0  \n",
              "4       2.0       NaN      NaN  2.0       9.0  \n",
              "\n",
              "[5 rows x 41 columns]"
            ],
            "text/html": [
              "\n",
              "  <div id=\"df-5a89bc61-65af-4305-b250-a3a3c2b8704c\">\n",
              "    <div class=\"colab-df-container\">\n",
              "      <div>\n",
              "<style scoped>\n",
              "    .dataframe tbody tr th:only-of-type {\n",
              "        vertical-align: middle;\n",
              "    }\n",
              "\n",
              "    .dataframe tbody tr th {\n",
              "        vertical-align: top;\n",
              "    }\n",
              "\n",
              "    .dataframe thead th {\n",
              "        text-align: right;\n",
              "    }\n",
              "</style>\n",
              "<table border=\"1\" class=\"dataframe\">\n",
              "  <thead>\n",
              "    <tr style=\"text-align: right;\">\n",
              "      <th></th>\n",
              "      <th>_RFHLTH</th>\n",
              "      <th>_HCVU651</th>\n",
              "      <th>_RFHYPE5</th>\n",
              "      <th>_RFCHOL</th>\n",
              "      <th>_MICHD</th>\n",
              "      <th>_ASTHMS1</th>\n",
              "      <th>_DRDXAR1</th>\n",
              "      <th>_RACE</th>\n",
              "      <th>_BMI5CAT</th>\n",
              "      <th>_RFBMI5</th>\n",
              "      <th>...</th>\n",
              "      <th>INSULIN</th>\n",
              "      <th>VICTRCT4</th>\n",
              "      <th>VIGLUMA2</th>\n",
              "      <th>VIMACDG2</th>\n",
              "      <th>CIMEMLOS</th>\n",
              "      <th>DRADVISE</th>\n",
              "      <th>ASNOSLEP</th>\n",
              "      <th>ADSLEEP</th>\n",
              "      <th>SEX</th>\n",
              "      <th>_AGEG5YR</th>\n",
              "    </tr>\n",
              "  </thead>\n",
              "  <tbody>\n",
              "    <tr>\n",
              "      <th>0</th>\n",
              "      <td>2.0</td>\n",
              "      <td>1.0</td>\n",
              "      <td>2.0</td>\n",
              "      <td>2.0</td>\n",
              "      <td>2.0</td>\n",
              "      <td>1.0</td>\n",
              "      <td>1.0</td>\n",
              "      <td>1.0</td>\n",
              "      <td>4.0</td>\n",
              "      <td>2.0</td>\n",
              "      <td>...</td>\n",
              "      <td>NaN</td>\n",
              "      <td>NaN</td>\n",
              "      <td>NaN</td>\n",
              "      <td>NaN</td>\n",
              "      <td>NaN</td>\n",
              "      <td>NaN</td>\n",
              "      <td>NaN</td>\n",
              "      <td>NaN</td>\n",
              "      <td>2.0</td>\n",
              "      <td>9.0</td>\n",
              "    </tr>\n",
              "    <tr>\n",
              "      <th>1</th>\n",
              "      <td>1.0</td>\n",
              "      <td>2.0</td>\n",
              "      <td>1.0</td>\n",
              "      <td>1.0</td>\n",
              "      <td>2.0</td>\n",
              "      <td>3.0</td>\n",
              "      <td>2.0</td>\n",
              "      <td>1.0</td>\n",
              "      <td>3.0</td>\n",
              "      <td>2.0</td>\n",
              "      <td>...</td>\n",
              "      <td>NaN</td>\n",
              "      <td>NaN</td>\n",
              "      <td>NaN</td>\n",
              "      <td>NaN</td>\n",
              "      <td>1.0</td>\n",
              "      <td>2.0</td>\n",
              "      <td>NaN</td>\n",
              "      <td>NaN</td>\n",
              "      <td>2.0</td>\n",
              "      <td>7.0</td>\n",
              "    </tr>\n",
              "    <tr>\n",
              "      <th>2</th>\n",
              "      <td>2.0</td>\n",
              "      <td>9.0</td>\n",
              "      <td>1.0</td>\n",
              "      <td>2.0</td>\n",
              "      <td>NaN</td>\n",
              "      <td>3.0</td>\n",
              "      <td>1.0</td>\n",
              "      <td>1.0</td>\n",
              "      <td>2.0</td>\n",
              "      <td>1.0</td>\n",
              "      <td>...</td>\n",
              "      <td>NaN</td>\n",
              "      <td>NaN</td>\n",
              "      <td>NaN</td>\n",
              "      <td>NaN</td>\n",
              "      <td>NaN</td>\n",
              "      <td>NaN</td>\n",
              "      <td>NaN</td>\n",
              "      <td>NaN</td>\n",
              "      <td>2.0</td>\n",
              "      <td>11.0</td>\n",
              "    </tr>\n",
              "    <tr>\n",
              "      <th>3</th>\n",
              "      <td>2.0</td>\n",
              "      <td>1.0</td>\n",
              "      <td>2.0</td>\n",
              "      <td>2.0</td>\n",
              "      <td>2.0</td>\n",
              "      <td>3.0</td>\n",
              "      <td>1.0</td>\n",
              "      <td>1.0</td>\n",
              "      <td>3.0</td>\n",
              "      <td>2.0</td>\n",
              "      <td>...</td>\n",
              "      <td>NaN</td>\n",
              "      <td>NaN</td>\n",
              "      <td>NaN</td>\n",
              "      <td>NaN</td>\n",
              "      <td>1.0</td>\n",
              "      <td>2.0</td>\n",
              "      <td>NaN</td>\n",
              "      <td>NaN</td>\n",
              "      <td>2.0</td>\n",
              "      <td>9.0</td>\n",
              "    </tr>\n",
              "    <tr>\n",
              "      <th>4</th>\n",
              "      <td>2.0</td>\n",
              "      <td>1.0</td>\n",
              "      <td>1.0</td>\n",
              "      <td>1.0</td>\n",
              "      <td>2.0</td>\n",
              "      <td>3.0</td>\n",
              "      <td>1.0</td>\n",
              "      <td>1.0</td>\n",
              "      <td>2.0</td>\n",
              "      <td>1.0</td>\n",
              "      <td>...</td>\n",
              "      <td>NaN</td>\n",
              "      <td>NaN</td>\n",
              "      <td>NaN</td>\n",
              "      <td>NaN</td>\n",
              "      <td>2.0</td>\n",
              "      <td>2.0</td>\n",
              "      <td>NaN</td>\n",
              "      <td>NaN</td>\n",
              "      <td>2.0</td>\n",
              "      <td>9.0</td>\n",
              "    </tr>\n",
              "  </tbody>\n",
              "</table>\n",
              "<p>5 rows × 41 columns</p>\n",
              "</div>\n",
              "      <button class=\"colab-df-convert\" onclick=\"convertToInteractive('df-5a89bc61-65af-4305-b250-a3a3c2b8704c')\"\n",
              "              title=\"Convert this dataframe to an interactive table.\"\n",
              "              style=\"display:none;\">\n",
              "        \n",
              "  <svg xmlns=\"http://www.w3.org/2000/svg\" height=\"24px\"viewBox=\"0 0 24 24\"\n",
              "       width=\"24px\">\n",
              "    <path d=\"M0 0h24v24H0V0z\" fill=\"none\"/>\n",
              "    <path d=\"M18.56 5.44l.94 2.06.94-2.06 2.06-.94-2.06-.94-.94-2.06-.94 2.06-2.06.94zm-11 1L8.5 8.5l.94-2.06 2.06-.94-2.06-.94L8.5 2.5l-.94 2.06-2.06.94zm10 10l.94 2.06.94-2.06 2.06-.94-2.06-.94-.94-2.06-.94 2.06-2.06.94z\"/><path d=\"M17.41 7.96l-1.37-1.37c-.4-.4-.92-.59-1.43-.59-.52 0-1.04.2-1.43.59L10.3 9.45l-7.72 7.72c-.78.78-.78 2.05 0 2.83L4 21.41c.39.39.9.59 1.41.59.51 0 1.02-.2 1.41-.59l7.78-7.78 2.81-2.81c.8-.78.8-2.07 0-2.86zM5.41 20L4 18.59l7.72-7.72 1.47 1.35L5.41 20z\"/>\n",
              "  </svg>\n",
              "      </button>\n",
              "      \n",
              "  <style>\n",
              "    .colab-df-container {\n",
              "      display:flex;\n",
              "      flex-wrap:wrap;\n",
              "      gap: 12px;\n",
              "    }\n",
              "\n",
              "    .colab-df-convert {\n",
              "      background-color: #E8F0FE;\n",
              "      border: none;\n",
              "      border-radius: 50%;\n",
              "      cursor: pointer;\n",
              "      display: none;\n",
              "      fill: #1967D2;\n",
              "      height: 32px;\n",
              "      padding: 0 0 0 0;\n",
              "      width: 32px;\n",
              "    }\n",
              "\n",
              "    .colab-df-convert:hover {\n",
              "      background-color: #E2EBFA;\n",
              "      box-shadow: 0px 1px 2px rgba(60, 64, 67, 0.3), 0px 1px 3px 1px rgba(60, 64, 67, 0.15);\n",
              "      fill: #174EA6;\n",
              "    }\n",
              "\n",
              "    [theme=dark] .colab-df-convert {\n",
              "      background-color: #3B4455;\n",
              "      fill: #D2E3FC;\n",
              "    }\n",
              "\n",
              "    [theme=dark] .colab-df-convert:hover {\n",
              "      background-color: #434B5C;\n",
              "      box-shadow: 0px 1px 3px 1px rgba(0, 0, 0, 0.15);\n",
              "      filter: drop-shadow(0px 1px 2px rgba(0, 0, 0, 0.3));\n",
              "      fill: #FFFFFF;\n",
              "    }\n",
              "  </style>\n",
              "\n",
              "      <script>\n",
              "        const buttonEl =\n",
              "          document.querySelector('#df-5a89bc61-65af-4305-b250-a3a3c2b8704c button.colab-df-convert');\n",
              "        buttonEl.style.display =\n",
              "          google.colab.kernel.accessAllowed ? 'block' : 'none';\n",
              "\n",
              "        async function convertToInteractive(key) {\n",
              "          const element = document.querySelector('#df-5a89bc61-65af-4305-b250-a3a3c2b8704c');\n",
              "          const dataTable =\n",
              "            await google.colab.kernel.invokeFunction('convertToInteractive',\n",
              "                                                     [key], {});\n",
              "          if (!dataTable) return;\n",
              "\n",
              "          const docLinkHtml = 'Like what you see? Visit the ' +\n",
              "            '<a target=\"_blank\" href=https://colab.research.google.com/notebooks/data_table.ipynb>data table notebook</a>'\n",
              "            + ' to learn more about interactive tables.';\n",
              "          element.innerHTML = '';\n",
              "          dataTable['output_type'] = 'display_data';\n",
              "          await google.colab.output.renderOutput(dataTable, element);\n",
              "          const docLink = document.createElement('div');\n",
              "          docLink.innerHTML = docLinkHtml;\n",
              "          element.appendChild(docLink);\n",
              "        }\n",
              "      </script>\n",
              "    </div>\n",
              "  </div>\n",
              "  "
            ]
          },
          "metadata": {},
          "execution_count": 11
        }
      ]
    },
    {
      "cell_type": "code",
      "source": [
        "Data_2015_selected.dtypes"
      ],
      "metadata": {
        "id": "pVQO2anzpXih",
        "colab": {
          "base_uri": "https://localhost:8080/"
        },
        "outputId": "f780e347-cee1-4f91-ad95-42adf770be37"
      },
      "execution_count": null,
      "outputs": [
        {
          "output_type": "execute_result",
          "data": {
            "text/plain": [
              "_RFHLTH     float64\n",
              "_HCVU651    float64\n",
              "_RFHYPE5    float64\n",
              "_RFCHOL     float64\n",
              "_MICHD      float64\n",
              "_ASTHMS1    float64\n",
              "_DRDXAR1    float64\n",
              "_RACE       float64\n",
              "_BMI5CAT    float64\n",
              "_RFBMI5     float64\n",
              "_EDUCAG     float64\n",
              "_INCOMG     float64\n",
              "_SMOKER3    float64\n",
              "_RFDRHV5    float64\n",
              "_FRTLT1     float64\n",
              "_VEGLT1     float64\n",
              "_PACAT1     float64\n",
              "_PAINDX1    float64\n",
              "_PASTRNG    float64\n",
              "PHYSHLTH    float64\n",
              "MENTHLTH    float64\n",
              "MEDCOST     float64\n",
              "CHECKUP1    float64\n",
              "BPMEDS      float64\n",
              "CHCSCNCR    float64\n",
              "CHCOCNCR    float64\n",
              "CHCCOPD1    float64\n",
              "ADDEPEV2    float64\n",
              "CHCKIDNY    float64\n",
              "DIABETE3    float64\n",
              "PREDIAB1    float64\n",
              "INSULIN     float64\n",
              "VICTRCT4    float64\n",
              "VIGLUMA2    float64\n",
              "VIMACDG2    float64\n",
              "CIMEMLOS    float64\n",
              "DRADVISE    float64\n",
              "ASNOSLEP    float64\n",
              "ADSLEEP     float64\n",
              "SEX         float64\n",
              "_AGEG5YR    float64\n",
              "dtype: object"
            ]
          },
          "metadata": {},
          "execution_count": 12
        }
      ]
    },
    {
      "cell_type": "markdown",
      "source": [
        "## Clean the columns "
      ],
      "metadata": {
        "id": "lAz25gUm_72V"
      }
    },
    {
      "cell_type": "code",
      "source": [
        "#1 _RFHLTH Adults with good or better health\n",
        "# Change all 2 to 0 (2= Fair/Poor heath)\n",
        "# remove all dont knows and missing 9 health status is an important maker in this study\n",
        "Data_2015_selected['_RFHLTH'] = Data_2015_selected['_RFHLTH'].replace({2:0})\n",
        "Data_2015_selected = Data_2015_selected[Data_2015_selected._RFHLTH != 9]\n",
        "Data_2015_selected._RFHLTH.unique()"
      ],
      "metadata": {
        "id": "rfEi7A3Upsz0",
        "colab": {
          "base_uri": "https://localhost:8080/"
        },
        "outputId": "ea9aa6f9-90cc-47f5-8564-949ad199b02c"
      },
      "execution_count": null,
      "outputs": [
        {
          "output_type": "stream",
          "name": "stderr",
          "text": [
            "/usr/local/lib/python3.7/dist-packages/ipykernel_launcher.py:4: SettingWithCopyWarning: \n",
            "A value is trying to be set on a copy of a slice from a DataFrame.\n",
            "Try using .loc[row_indexer,col_indexer] = value instead\n",
            "\n",
            "See the caveats in the documentation: https://pandas.pydata.org/pandas-docs/stable/user_guide/indexing.html#returning-a-view-versus-a-copy\n",
            "  after removing the cwd from sys.path.\n"
          ]
        },
        {
          "output_type": "execute_result",
          "data": {
            "text/plain": [
              "array([0., 1.])"
            ]
          },
          "metadata": {},
          "execution_count": 13
        }
      ]
    },
    {
      "cell_type": "code",
      "source": [
        "\n",
        "#2 _HCVU651 Respondents aged 18-64 who have any form of health care coverage\n",
        "# Change all 2 to 0 (2= does not have health coverage)\n",
        "# Cannot remove don't know/missing because other important health Q's may have been answered by these individuals\n",
        "Data_2015_selected['_HCVU651'] = Data_2015_selected['_HCVU651'].replace({2:0})\n",
        "Data_2015_selected._HCVU651.unique()"
      ],
      "metadata": {
        "id": "-GA5bU4kvh4q",
        "colab": {
          "base_uri": "https://localhost:8080/"
        },
        "outputId": "1643d605-78d8-4e2c-f2b9-bb1414ed7e71"
      },
      "execution_count": null,
      "outputs": [
        {
          "output_type": "stream",
          "name": "stderr",
          "text": [
            "/usr/local/lib/python3.7/dist-packages/ipykernel_launcher.py:4: SettingWithCopyWarning: \n",
            "A value is trying to be set on a copy of a slice from a DataFrame.\n",
            "Try using .loc[row_indexer,col_indexer] = value instead\n",
            "\n",
            "See the caveats in the documentation: https://pandas.pydata.org/pandas-docs/stable/user_guide/indexing.html#returning-a-view-versus-a-copy\n",
            "  after removing the cwd from sys.path.\n"
          ]
        },
        {
          "output_type": "execute_result",
          "data": {
            "text/plain": [
              "array([1., 0., 9.])"
            ]
          },
          "metadata": {},
          "execution_count": 14
        }
      ]
    },
    {
      "cell_type": "code",
      "source": [
        "#3 _RFHYPE5 Adults who have been told they have high blood pressure by a doctor, nurse, or other health professional\n",
        "#Change 1 to 0 so it represetnts No high blood pressure and 2 to 1 so it represents high blood pressure\n",
        "Data_2015_selected['_RFHYPE5'] = Data_2015_selected['_RFHYPE5'].replace({1:0, 2:1})\n",
        "Data_2015_selected = Data_2015_selected[Data_2015_selected._RFHYPE5 != 9]\n",
        "Data_2015_selected._RFHYPE5.unique()"
      ],
      "metadata": {
        "id": "PTRCgUvzwzO8",
        "colab": {
          "base_uri": "https://localhost:8080/"
        },
        "outputId": "29703345-3741-4171-c768-1115686c73a1"
      },
      "execution_count": null,
      "outputs": [
        {
          "output_type": "stream",
          "name": "stderr",
          "text": [
            "/usr/local/lib/python3.7/dist-packages/ipykernel_launcher.py:3: SettingWithCopyWarning: \n",
            "A value is trying to be set on a copy of a slice from a DataFrame.\n",
            "Try using .loc[row_indexer,col_indexer] = value instead\n",
            "\n",
            "See the caveats in the documentation: https://pandas.pydata.org/pandas-docs/stable/user_guide/indexing.html#returning-a-view-versus-a-copy\n",
            "  This is separate from the ipykernel package so we can avoid doing imports until\n"
          ]
        },
        {
          "output_type": "execute_result",
          "data": {
            "text/plain": [
              "array([1., 0.])"
            ]
          },
          "metadata": {},
          "execution_count": 15
        }
      ]
    },
    {
      "cell_type": "code",
      "source": [
        "#4 _RFCHOL Adults who have had their cholesterol checked and have been told by a doctor, nurse, or other health professional that it was high\n",
        "#Change 1 to 0 so it represetnts No high Cholesterol and 2 to 1 so it represents high cholesterol \n",
        "Data_2015_selected['_RFCHOL'] = Data_2015_selected['_RFCHOL'].replace({1:0, 2:1})\n",
        "Data_2015_selected = Data_2015_selected[Data_2015_selected._RFCHOL != 9]\n",
        "Data_2015_selected._RFCHOL.unique()"
      ],
      "metadata": {
        "id": "WGex8kRGxW1s",
        "colab": {
          "base_uri": "https://localhost:8080/"
        },
        "outputId": "db320b6e-e189-4732-a250-7840a3677dd5"
      },
      "execution_count": null,
      "outputs": [
        {
          "output_type": "execute_result",
          "data": {
            "text/plain": [
              "array([ 1.,  0., nan])"
            ]
          },
          "metadata": {},
          "execution_count": 16
        }
      ]
    },
    {
      "cell_type": "code",
      "source": [
        "#5 _MICHD Respondents that have ever reported having coronary heart disease (CHD) or myocardial infarction (MI)\n",
        "#Change 2 to 0 so it represetnts No CHD/MI \n",
        "Data_2015_selected['_MICHD'] = Data_2015_selected['_MICHD'].replace({2:0})\n",
        "Data_2015_selected._MICHD.unique()"
      ],
      "metadata": {
        "id": "mtwV6a1VE8AW",
        "colab": {
          "base_uri": "https://localhost:8080/"
        },
        "outputId": "abfe9635-f70c-4591-f5f1-a314430e7a62"
      },
      "execution_count": null,
      "outputs": [
        {
          "output_type": "stream",
          "name": "stderr",
          "text": [
            "/usr/local/lib/python3.7/dist-packages/ipykernel_launcher.py:3: SettingWithCopyWarning: \n",
            "A value is trying to be set on a copy of a slice from a DataFrame.\n",
            "Try using .loc[row_indexer,col_indexer] = value instead\n",
            "\n",
            "See the caveats in the documentation: https://pandas.pydata.org/pandas-docs/stable/user_guide/indexing.html#returning-a-view-versus-a-copy\n",
            "  This is separate from the ipykernel package so we can avoid doing imports until\n"
          ]
        },
        {
          "output_type": "execute_result",
          "data": {
            "text/plain": [
              "array([ 0., nan,  1.])"
            ]
          },
          "metadata": {},
          "execution_count": 17
        }
      ]
    },
    {
      "cell_type": "code",
      "source": [
        "#6 _ASTHMS1 Computed asthma status \n",
        "# Change 3 to 0 leave 1 as current and 2 as former \n",
        "Data_2015_selected['_ASTHMS1'] = Data_2015_selected['_ASTHMS1'].replace({3:0})\n",
        "Data_2015_selected = Data_2015_selected[Data_2015_selected._ASTHMS1 != 9]\n",
        "Data_2015_selected._ASTHMS1.unique()"
      ],
      "metadata": {
        "id": "shVDypziFoYP",
        "colab": {
          "base_uri": "https://localhost:8080/"
        },
        "outputId": "d97660f5-3507-4773-852d-9cb6bc38aaf9"
      },
      "execution_count": null,
      "outputs": [
        {
          "output_type": "stream",
          "name": "stderr",
          "text": [
            "/usr/local/lib/python3.7/dist-packages/ipykernel_launcher.py:3: SettingWithCopyWarning: \n",
            "A value is trying to be set on a copy of a slice from a DataFrame.\n",
            "Try using .loc[row_indexer,col_indexer] = value instead\n",
            "\n",
            "See the caveats in the documentation: https://pandas.pydata.org/pandas-docs/stable/user_guide/indexing.html#returning-a-view-versus-a-copy\n",
            "  This is separate from the ipykernel package so we can avoid doing imports until\n"
          ]
        },
        {
          "output_type": "execute_result",
          "data": {
            "text/plain": [
              "array([1., 0., 2.])"
            ]
          },
          "metadata": {},
          "execution_count": 18
        }
      ]
    },
    {
      "cell_type": "code",
      "source": [
        "#7 _DRDXAR1 Respondents who have had a doctor diagnose them as having some form of arthritis\n",
        "#Change 2 to 0 so it represetnts No arthritis \n",
        "Data_2015_selected['_DRDXAR1'] = Data_2015_selected['_DRDXAR1'].replace({2:0})\n",
        "Data_2015_selected._DRDXAR1.unique()"
      ],
      "metadata": {
        "id": "zasRizA0GGvA",
        "colab": {
          "base_uri": "https://localhost:8080/"
        },
        "outputId": "3e2aa03f-2969-44bf-d698-b962cc7e5530"
      },
      "execution_count": null,
      "outputs": [
        {
          "output_type": "execute_result",
          "data": {
            "text/plain": [
              "array([ 1.,  0., nan])"
            ]
          },
          "metadata": {},
          "execution_count": 19
        }
      ]
    },
    {
      "cell_type": "code",
      "source": [
        "#8 _RACE Race/ethnicity categories keep everything the same 1-7 remove 'don't know category; \n",
        "Data_2015_selected = Data_2015_selected[Data_2015_selected._RACE != 9]\n",
        "Data_2015_selected._RACE.unique()"
      ],
      "metadata": {
        "id": "NOE3F4obHUe0",
        "colab": {
          "base_uri": "https://localhost:8080/"
        },
        "outputId": "223eea1c-3487-44ea-e654-0e00769379de"
      },
      "execution_count": null,
      "outputs": [
        {
          "output_type": "execute_result",
          "data": {
            "text/plain": [
              "array([1., 7., 2., 3., 6., 8., 4., 5.])"
            ]
          },
          "metadata": {},
          "execution_count": 20
        }
      ]
    },
    {
      "cell_type": "code",
      "source": [
        "#10 _BMI5CAT Four-categories of Body Mass Index (BMI) 1= under weight, 2= normal weight, 3= overweight, 4= obese\n",
        "# remove don't know blank \n",
        "Data_2015_selected = Data_2015_selected[Data_2015_selected._BMI5CAT != 9999]\n",
        "Data_2015_selected._BMI5CAT.unique()"
      ],
      "metadata": {
        "id": "G4Yq9KUzIbO2",
        "colab": {
          "base_uri": "https://localhost:8080/"
        },
        "outputId": "efdd0fc1-dd6d-4f7c-e4f1-e9a39c64c883"
      },
      "execution_count": null,
      "outputs": [
        {
          "output_type": "execute_result",
          "data": {
            "text/plain": [
              "array([ 4.,  3.,  2.,  1., nan])"
            ]
          },
          "metadata": {},
          "execution_count": 21
        }
      ]
    },
    {
      "cell_type": "code",
      "source": [
        "#11 _RFBMI5 Adults who have a body mass index greater than 25.00 (Overweight or Obese)\n",
        "#Change 1 to 0 so it represetnts No high BMI and 2 to 1 so it represents high BMI\n",
        "Data_2015_selected['_RFBMI5'] = Data_2015_selected['_RFBMI5'].replace({1:0, 2:1})\n",
        "Data_2015_selected = Data_2015_selected[Data_2015_selected._RFBMI5 != 9]\n",
        "Data_2015_selected._RFBMI5.unique()"
      ],
      "metadata": {
        "id": "VmqorYdDI6ei",
        "colab": {
          "base_uri": "https://localhost:8080/"
        },
        "outputId": "33561c75-a0cc-40c6-ea5e-3eb9139284e5"
      },
      "execution_count": null,
      "outputs": [
        {
          "output_type": "execute_result",
          "data": {
            "text/plain": [
              "array([1., 0.])"
            ]
          },
          "metadata": {},
          "execution_count": 22
        }
      ]
    },
    {
      "cell_type": "code",
      "source": [
        "#12 _EDUCAG  Level of education completed\n",
        "# remove don't know missing \n",
        "Data_2015_selected = Data_2015_selected[Data_2015_selected._EDUCAG != 9]\n",
        "Data_2015_selected._EDUCAG.unique()"
      ],
      "metadata": {
        "id": "bbl6spptJSiM",
        "colab": {
          "base_uri": "https://localhost:8080/"
        },
        "outputId": "fd5671f4-0ef9-4cb4-e6f3-d2dbe3537e13"
      },
      "execution_count": null,
      "outputs": [
        {
          "output_type": "execute_result",
          "data": {
            "text/plain": [
              "array([2., 4., 3., 1.])"
            ]
          },
          "metadata": {},
          "execution_count": 23
        }
      ]
    },
    {
      "cell_type": "code",
      "source": [
        "#13 _INCOMG Income Categories\n",
        "# remove don't know missing \n",
        "Data_2015_selected = Data_2015_selected[Data_2015_selected._INCOMG != 9]\n",
        "Data_2015_selected._INCOMG.unique()"
      ],
      "metadata": {
        "id": "7P-ZdSqNJhm5",
        "colab": {
          "base_uri": "https://localhost:8080/"
        },
        "outputId": "1210c079-a58a-417e-f1c0-a1aedbc3d39c"
      },
      "execution_count": null,
      "outputs": [
        {
          "output_type": "execute_result",
          "data": {
            "text/plain": [
              "array([2., 1., 5., 4., 3.])"
            ]
          },
          "metadata": {},
          "execution_count": 24
        }
      ]
    },
    {
      "cell_type": "code",
      "source": [
        "#14 _SMOKER3 Adults who are current smokers\n",
        "#Change 1 to 0 so it represetnts Don't currently smoke  and 2 to 1 so it represents current smokers \n",
        "Data_2015_selected['_SMOKER3'] = Data_2015_selected['_SMOKER3'].replace({1:0, 2:1})\n",
        "Data_2015_selected = Data_2015_selected[Data_2015_selected._SMOKER3 != 9]\n",
        "Data_2015_selected._SMOKER3.unique()"
      ],
      "metadata": {
        "id": "hBeG8vkhJvMZ",
        "colab": {
          "base_uri": "https://localhost:8080/"
        },
        "outputId": "193ac8a4-d9f8-46ad-d3e4-0e59fb1297dd"
      },
      "execution_count": null,
      "outputs": [
        {
          "output_type": "stream",
          "name": "stderr",
          "text": [
            "/usr/local/lib/python3.7/dist-packages/ipykernel_launcher.py:3: SettingWithCopyWarning: \n",
            "A value is trying to be set on a copy of a slice from a DataFrame.\n",
            "Try using .loc[row_indexer,col_indexer] = value instead\n",
            "\n",
            "See the caveats in the documentation: https://pandas.pydata.org/pandas-docs/stable/user_guide/indexing.html#returning-a-view-versus-a-copy\n",
            "  This is separate from the ipykernel package so we can avoid doing imports until\n"
          ]
        },
        {
          "output_type": "execute_result",
          "data": {
            "text/plain": [
              "array([3., 0., 4., 1.])"
            ]
          },
          "metadata": {},
          "execution_count": 25
        }
      ]
    },
    {
      "cell_type": "code",
      "source": [
        "# 15 _RFDRHV5 Heavy drinkers (adult men having more than 14 drinks per week and adult women having more than 7 drinks per week)\n",
        "#Change 1 to 0 so it represetnts NO  and 2 to 1 so it represents YES\n",
        "Data_2015_selected['_RFDRHV5'] = Data_2015_selected['_RFDRHV5'].replace({1:0, 2:1})\n",
        "Data_2015_selected._RFDRHV5.unique()"
      ],
      "metadata": {
        "id": "1637p4hkKIpb",
        "colab": {
          "base_uri": "https://localhost:8080/"
        },
        "outputId": "a66646a7-3a0b-4f51-e97c-11d29b71fbde"
      },
      "execution_count": null,
      "outputs": [
        {
          "output_type": "execute_result",
          "data": {
            "text/plain": [
              "array([0., 9., 1.])"
            ]
          },
          "metadata": {},
          "execution_count": 26
        }
      ]
    },
    {
      "cell_type": "code",
      "source": [
        "#16 _FRTLT1 Consume Fruit 1 or more times per day\n",
        "#Change 2 to 0 so it represents no\n",
        "Data_2015_selected['_FRTLT1'] = Data_2015_selected['_FRTLT1'].replace({2:0})\n",
        "Data_2015_selected._FRTLT1.unique()"
      ],
      "metadata": {
        "id": "mrQyYr3gKi4L",
        "colab": {
          "base_uri": "https://localhost:8080/"
        },
        "outputId": "6dcf7d2f-a8c1-4f94-9075-6c30badf0abe"
      },
      "execution_count": null,
      "outputs": [
        {
          "output_type": "execute_result",
          "data": {
            "text/plain": [
              "array([0., 1., 9.])"
            ]
          },
          "metadata": {},
          "execution_count": 27
        }
      ]
    },
    {
      "cell_type": "code",
      "source": [
        "#17 _VEGLT1 Consume Vegetables 1 or more times per day\n",
        "#Change 2 to 0 so it represents no\n",
        "Data_2015_selected['_VEGLT1'] = Data_2015_selected['_VEGLT1'].replace({2:0})\n",
        "Data_2015_selected._VEGLT1.unique()"
      ],
      "metadata": {
        "id": "8-emz47pK1fT",
        "colab": {
          "base_uri": "https://localhost:8080/"
        },
        "outputId": "9aa22ccb-055c-47c5-8d16-43ff30cf2ec2"
      },
      "execution_count": null,
      "outputs": [
        {
          "output_type": "execute_result",
          "data": {
            "text/plain": [
              "array([1., 0., 9.])"
            ]
          },
          "metadata": {},
          "execution_count": 28
        }
      ]
    },
    {
      "cell_type": "code",
      "source": [
        "#18 _PACAT1 Physical Activity Categories leave as is "
      ],
      "metadata": {
        "id": "_VDtitGCML7e"
      },
      "execution_count": null,
      "outputs": []
    },
    {
      "cell_type": "code",
      "source": [
        "#19 _PAINDX1 Physical Activity Index met or did not meet physical activity demands \n",
        "#Change 2 to 0 so it represents no\n",
        "Data_2015_selected['_PAINDX1'] = Data_2015_selected['_PAINDX1'].replace({2:0})\n",
        "Data_2015_selected._PAINDX1.unique()"
      ],
      "metadata": {
        "id": "X5VNy1jVMUGx",
        "colab": {
          "base_uri": "https://localhost:8080/"
        },
        "outputId": "599a0340-94bc-4508-f4c7-356ac9101427"
      },
      "execution_count": null,
      "outputs": [
        {
          "output_type": "execute_result",
          "data": {
            "text/plain": [
              "array([0., 1., 9.])"
            ]
          },
          "metadata": {},
          "execution_count": 30
        }
      ]
    },
    {
      "cell_type": "code",
      "source": [
        "#20 _PASTRNG Muscle Strengthening Recommendation\n",
        "#Change 2 to 0 so it represents did not meet muscle strenghening reccomendations\n",
        "Data_2015_selected['_PASTRNG'] = Data_2015_selected['_PASTRNG'].replace({2:0})\n",
        "Data_2015_selected._PASTRNG.unique()"
      ],
      "metadata": {
        "id": "JhDV8XElModd",
        "colab": {
          "base_uri": "https://localhost:8080/"
        },
        "outputId": "73bc5508-87c9-4f93-f755-52bf6e143128"
      },
      "execution_count": null,
      "outputs": [
        {
          "output_type": "execute_result",
          "data": {
            "text/plain": [
              "array([0., 9., 1.])"
            ]
          },
          "metadata": {},
          "execution_count": 31
        }
      ]
    },
    {
      "cell_type": "code",
      "source": [
        "#21 PHYSHLTH Now thinking about your physical health, which includes physical illness and injury, for how many days during the past 30 days was your physical health not good?\n",
        "# Changee 88 to 0 to represent no days of poor health \n",
        "Data_2015_selected['PHYSHLTH'] = Data_2015_selected['PHYSHLTH'].replace({88:0})\n",
        "Data_2015_selected.PHYSHLTH.unique()"
      ],
      "metadata": {
        "id": "oiA_I4d_M69S",
        "colab": {
          "base_uri": "https://localhost:8080/"
        },
        "outputId": "1778d8ef-c6a3-4c14-d6bd-16055cb9bcaa"
      },
      "execution_count": null,
      "outputs": [
        {
          "output_type": "execute_result",
          "data": {
            "text/plain": [
              "array([15.,  0., 30.,  8.,  2., 14., 99.,  6., 28.,  7., 77.,  1., 20.,\n",
              "        3., 10.,  5., 17.,  4., 19., 25., 12., 27., 21., 22., 29., 24.,\n",
              "        9., 16., 18., 23., 13., 11., 26.])"
            ]
          },
          "metadata": {},
          "execution_count": 32
        }
      ]
    },
    {
      "cell_type": "code",
      "source": [
        "#22 MENTHLTH Now thinking about your mental health, which includes stress, depression, and problems with emotions, for how many days during the past 30 days was your mental health not good?\n",
        "# Changee 88 to 0 to represent no days of poor health \n",
        "Data_2015_selected['MENTHLTH'] = Data_2015_selected['MENTHLTH'].replace({88:0})\n",
        "Data_2015_selected.MENTHLTH.unique()"
      ],
      "metadata": {
        "id": "cOvTsIeXNRiz",
        "colab": {
          "base_uri": "https://localhost:8080/"
        },
        "outputId": "7922fd0a-ca4f-46f5-84ec-72f0e3fbb040"
      },
      "execution_count": null,
      "outputs": [
        {
          "output_type": "execute_result",
          "data": {
            "text/plain": [
              "array([18.,  0., 30.,  3., 99.,  2.,  5., 15., 10.,  1.,  6.,  7., 20.,\n",
              "       77., 25., 29.,  4.,  8., 21., 14., 26., 16., 28., 11., 17., 12.,\n",
              "       23., 24., 13., 27., 22., 19.,  9.])"
            ]
          },
          "metadata": {},
          "execution_count": 33
        }
      ]
    },
    {
      "cell_type": "code",
      "source": [
        "#23 MEDCOST  Was there a time in the past 12 months when you needed to see a doctor but could not because of cost?\n",
        "# Changee 2 to 0 to represent no \n",
        "Data_2015_selected['MEDCOST'] = Data_2015_selected['MEDCOST'].replace({2:0})\n",
        "Data_2015_selected.MEDCOST.unique()"
      ],
      "metadata": {
        "id": "z993cWfjgJTg",
        "colab": {
          "base_uri": "https://localhost:8080/"
        },
        "outputId": "0d65cf9f-d2ad-4161-8052-327491fba382"
      },
      "execution_count": null,
      "outputs": [
        {
          "output_type": "execute_result",
          "data": {
            "text/plain": [
              "array([ 0.,  1.,  7.,  9., nan])"
            ]
          },
          "metadata": {},
          "execution_count": 34
        }
      ]
    },
    {
      "cell_type": "code",
      "source": [
        "#24 CHECKUP1 About how long has it been since you last visited a doctor for a routine checkup?\n",
        "# Changee 8 to 0 to represent never \n",
        "Data_2015_selected['CHECKUP1'] = Data_2015_selected['CHECKUP1'].replace({8:0})\n",
        "Data_2015_selected.CHECKUP1.unique()"
      ],
      "metadata": {
        "id": "_wOHa9PfgxTM",
        "colab": {
          "base_uri": "https://localhost:8080/"
        },
        "outputId": "0c6158c7-a950-4e31-c64b-fe8520b2f11f"
      },
      "execution_count": null,
      "outputs": [
        {
          "output_type": "execute_result",
          "data": {
            "text/plain": [
              "array([ 1.,  4.,  3.,  2.,  0.,  7.,  9., nan])"
            ]
          },
          "metadata": {},
          "execution_count": 35
        }
      ]
    },
    {
      "cell_type": "code",
      "source": [
        "#25 BPMEDS Are you currently taking medicine for your high blood pressure?\n",
        "# Changee 2 to 0 to represent no \n",
        "Data_2015_selected['BPMEDS'] = Data_2015_selected['BPMEDS'].replace({2:0})\n",
        "Data_2015_selected.BPMEDS.unique()"
      ],
      "metadata": {
        "id": "UBjCMIjmhFWj",
        "colab": {
          "base_uri": "https://localhost:8080/"
        },
        "outputId": "6b4e7a76-9002-4fe2-fd1a-cda421c32adc"
      },
      "execution_count": null,
      "outputs": [
        {
          "output_type": "execute_result",
          "data": {
            "text/plain": [
              "array([ 1., nan,  0.,  7.,  9.])"
            ]
          },
          "metadata": {},
          "execution_count": 36
        }
      ]
    },
    {
      "cell_type": "code",
      "source": [
        "#26 CHCSCNCR (Ever told) you had skin cancer?\n",
        "# Changee 2 to 0 to represent no \n",
        "Data_2015_selected['CHCSCNCR'] = Data_2015_selected['CHCSCNCR'].replace({2:0})\n",
        "Data_2015_selected.CHCSCNCR.unique()"
      ],
      "metadata": {
        "id": "qYsTn4kxhTj-",
        "colab": {
          "base_uri": "https://localhost:8080/"
        },
        "outputId": "bdfcec62-3cb9-464e-ef82-b56cb7bb5047"
      },
      "execution_count": null,
      "outputs": [
        {
          "output_type": "execute_result",
          "data": {
            "text/plain": [
              "array([0., 1., 7., 9.])"
            ]
          },
          "metadata": {},
          "execution_count": 37
        }
      ]
    },
    {
      "cell_type": "code",
      "source": [
        "#27 CHCOCNCR (Ever told) you had any other types of cancer?\n",
        "# Changee 2 to 0 to represent no \n",
        "Data_2015_selected['CHCOCNCR'] = Data_2015_selected['CHCOCNCR'].replace({2:0})\n",
        "Data_2015_selected.CHCOCNCR.unique()"
      ],
      "metadata": {
        "id": "6K1QTlNvh5_c",
        "colab": {
          "base_uri": "https://localhost:8080/"
        },
        "outputId": "22b31026-ac5f-4e2e-ee45-e194a32e1cd0"
      },
      "execution_count": null,
      "outputs": [
        {
          "output_type": "execute_result",
          "data": {
            "text/plain": [
              "array([0., 1., 7., 9.])"
            ]
          },
          "metadata": {},
          "execution_count": 38
        }
      ]
    },
    {
      "cell_type": "code",
      "source": [
        "#28 CHCCOPD1 (Ever told) you have Chronic Obstructive Pulmonary Disease or COPD, emphysema or chronic bronchitis?\n",
        "# Changee 2 to 0 to represent no \n",
        "Data_2015_selected['CHCCOPD1'] = Data_2015_selected['CHCCOPD1'].replace({2:0})\n",
        "Data_2015_selected.CHCCOPD1.unique()"
      ],
      "metadata": {
        "id": "wqYQSw3uiDDh",
        "colab": {
          "base_uri": "https://localhost:8080/"
        },
        "outputId": "f21efde1-7a1f-48c4-b09d-87b04cb29c12"
      },
      "execution_count": null,
      "outputs": [
        {
          "output_type": "execute_result",
          "data": {
            "text/plain": [
              "array([1., 0., 7., 9.])"
            ]
          },
          "metadata": {},
          "execution_count": 39
        }
      ]
    },
    {
      "cell_type": "code",
      "source": [
        "#29 ADDEPEV2 (Ever told) you that you have a depressive disorder, including depression, major depression, dysthymia, or minor depression?\n",
        "# Changee 2 to 0 to represent no \n",
        "Data_2015_selected['ADDEPEV2'] = Data_2015_selected['ADDEPEV2'].replace({2:0})\n",
        "Data_2015_selected.ADDEPEV2.unique()"
      ],
      "metadata": {
        "id": "lkQYJLH1iTYU",
        "colab": {
          "base_uri": "https://localhost:8080/"
        },
        "outputId": "b929244b-ab71-42af-d372-2b2e7a5cc2f2"
      },
      "execution_count": null,
      "outputs": [
        {
          "output_type": "execute_result",
          "data": {
            "text/plain": [
              "array([1., 0., 9., 7.])"
            ]
          },
          "metadata": {},
          "execution_count": 40
        }
      ]
    },
    {
      "cell_type": "code",
      "source": [
        "#30 CHCKIDNY (Ever told) you have kidney disease? Do NOT include kidney stones, bladder infection or incontinence.(Incontinence is not being able to control urine flow.)\n",
        "# Changee 2 to 0 to represent no \n",
        "Data_2015_selected['CHCKIDNY'] = Data_2015_selected['CHCKIDNY'].replace({2:0})\n",
        "Data_2015_selected.CHCKIDNY.unique()"
      ],
      "metadata": {
        "id": "xznnGs4uiqDA",
        "colab": {
          "base_uri": "https://localhost:8080/"
        },
        "outputId": "75ddd5e9-00b8-4ce6-adb9-3d44d8a7c15c"
      },
      "execution_count": null,
      "outputs": [
        {
          "output_type": "execute_result",
          "data": {
            "text/plain": [
              "array([0., 7., 1., 9.])"
            ]
          },
          "metadata": {},
          "execution_count": 41
        }
      ]
    },
    {
      "cell_type": "code",
      "source": [
        "#31 DIABETE3 Ever told) you have diabetes (If \"Yes\" and respondent is female, ask \"Was this only when you were pregnant?\". If Respondent says pre-diabetes or borderline diabetes, use response code 4.)\n",
        "# Change to 0 is for no diabetes or only during pregnancy, 1 is for pre-diabetes or borderline diabetes, 2 is for yes diabetes\n",
        "# Remove all 7 (dont knows)\n",
        "# Remove all 9 (refused)\n",
        "Data_2015_selected['DIABETE3'] = Data_2015_selected['DIABETE3'].replace({2:0, 3:0, 1:2, 4:1})\n",
        "Data_2015_selected = Data_2015_selected[Data_2015_selected.DIABETE3 != 7]\n",
        "Data_2015_selected = Data_2015_selected[Data_2015_selected.DIABETE3 != 9]\n",
        "Data_2015_selected.DIABETE3.unique()"
      ],
      "metadata": {
        "id": "6_NGY8DKip6b",
        "colab": {
          "base_uri": "https://localhost:8080/"
        },
        "outputId": "a49685ec-af7c-4f5a-dd35-f86284a761b9"
      },
      "execution_count": null,
      "outputs": [
        {
          "output_type": "execute_result",
          "data": {
            "text/plain": [
              "array([ 0.,  2.,  1., nan])"
            ]
          },
          "metadata": {},
          "execution_count": 42
        }
      ]
    },
    {
      "cell_type": "code",
      "source": [
        "#32 PREDIAB1 Have you ever been told by a doctor or other health professional that you have pre-diabetes or borderline diabetes? (If “Yes” and respondent is female, ask: “Was this only when you were pregnant?”)\n",
        "# Changee 3 to 0 to represent no \n",
        "Data_2015_selected['PREDIAB1'] = Data_2015_selected['PREDIAB1'].replace({3:0})\n",
        "Data_2015_selected.PREDIAB1.unique()"
      ],
      "metadata": {
        "id": "BN05PBb8ipwy",
        "colab": {
          "base_uri": "https://localhost:8080/"
        },
        "outputId": "e00ed19f-4e03-447d-8508-c6f32a167cb3"
      },
      "execution_count": null,
      "outputs": [
        {
          "output_type": "stream",
          "name": "stderr",
          "text": [
            "/usr/local/lib/python3.7/dist-packages/ipykernel_launcher.py:3: SettingWithCopyWarning: \n",
            "A value is trying to be set on a copy of a slice from a DataFrame.\n",
            "Try using .loc[row_indexer,col_indexer] = value instead\n",
            "\n",
            "See the caveats in the documentation: https://pandas.pydata.org/pandas-docs/stable/user_guide/indexing.html#returning-a-view-versus-a-copy\n",
            "  This is separate from the ipykernel package so we can avoid doing imports until\n"
          ]
        },
        {
          "output_type": "execute_result",
          "data": {
            "text/plain": [
              "array([ 0., nan,  1.,  2.,  7.,  9.])"
            ]
          },
          "metadata": {},
          "execution_count": 43
        }
      ]
    },
    {
      "cell_type": "code",
      "source": [
        "#33 INSULIN Are you now taking insulin?\n",
        "# Changee 2 to 0 to represent no \n",
        "Data_2015_selected['INSULIN'] = Data_2015_selected['INSULIN'].replace({2:0})\n",
        "Data_2015_selected.INSULIN.unique()"
      ],
      "metadata": {
        "id": "DlcME1CUipo7",
        "colab": {
          "base_uri": "https://localhost:8080/"
        },
        "outputId": "6addd40d-de8b-4418-849f-94f70b6d3de3"
      },
      "execution_count": null,
      "outputs": [
        {
          "output_type": "stream",
          "name": "stderr",
          "text": [
            "/usr/local/lib/python3.7/dist-packages/ipykernel_launcher.py:3: SettingWithCopyWarning: \n",
            "A value is trying to be set on a copy of a slice from a DataFrame.\n",
            "Try using .loc[row_indexer,col_indexer] = value instead\n",
            "\n",
            "See the caveats in the documentation: https://pandas.pydata.org/pandas-docs/stable/user_guide/indexing.html#returning-a-view-versus-a-copy\n",
            "  This is separate from the ipykernel package so we can avoid doing imports until\n"
          ]
        },
        {
          "output_type": "execute_result",
          "data": {
            "text/plain": [
              "array([nan,  0.,  1.,  9.])"
            ]
          },
          "metadata": {},
          "execution_count": 44
        }
      ]
    },
    {
      "cell_type": "code",
      "source": [
        "#34 VICTRCT4 Have you been told by an eye doctor or other health care professional that you NOW have cataracts?\n",
        "# Changee 3 to 0 to represent no \n",
        "Data_2015_selected['VICTRCT4'] = Data_2015_selected['VICTRCT4'].replace({3:0})\n",
        "Data_2015_selected.VICTRCT4.unique()"
      ],
      "metadata": {
        "id": "POk1SKO1ipgU",
        "colab": {
          "base_uri": "https://localhost:8080/"
        },
        "outputId": "6ca976a2-4010-4442-bb7f-9092b0d3de68"
      },
      "execution_count": null,
      "outputs": [
        {
          "output_type": "stream",
          "name": "stderr",
          "text": [
            "/usr/local/lib/python3.7/dist-packages/ipykernel_launcher.py:3: SettingWithCopyWarning: \n",
            "A value is trying to be set on a copy of a slice from a DataFrame.\n",
            "Try using .loc[row_indexer,col_indexer] = value instead\n",
            "\n",
            "See the caveats in the documentation: https://pandas.pydata.org/pandas-docs/stable/user_guide/indexing.html#returning-a-view-versus-a-copy\n",
            "  This is separate from the ipykernel package so we can avoid doing imports until\n"
          ]
        },
        {
          "output_type": "execute_result",
          "data": {
            "text/plain": [
              "array([nan,  0.,  1.,  2.,  7.])"
            ]
          },
          "metadata": {},
          "execution_count": 45
        }
      ]
    },
    {
      "cell_type": "code",
      "source": [
        "#35 VIGLUMA2 Have you EVER been told by an eye doctor or other health care professional that you had glaucoma?\n",
        "# Changee 2 to 0 to represent no \n",
        "Data_2015_selected['VIGLUMA2'] = Data_2015_selected['VIGLUMA2'].replace({2:0})\n",
        "Data_2015_selected.VIGLUMA2.unique()\n"
      ],
      "metadata": {
        "id": "iuhmDziNipYg",
        "colab": {
          "base_uri": "https://localhost:8080/"
        },
        "outputId": "d2c26588-ff12-4403-d007-63d77e5b3d51"
      },
      "execution_count": null,
      "outputs": [
        {
          "output_type": "stream",
          "name": "stderr",
          "text": [
            "/usr/local/lib/python3.7/dist-packages/ipykernel_launcher.py:3: SettingWithCopyWarning: \n",
            "A value is trying to be set on a copy of a slice from a DataFrame.\n",
            "Try using .loc[row_indexer,col_indexer] = value instead\n",
            "\n",
            "See the caveats in the documentation: https://pandas.pydata.org/pandas-docs/stable/user_guide/indexing.html#returning-a-view-versus-a-copy\n",
            "  This is separate from the ipykernel package so we can avoid doing imports until\n"
          ]
        },
        {
          "output_type": "execute_result",
          "data": {
            "text/plain": [
              "array([nan,  0.,  1.,  7.])"
            ]
          },
          "metadata": {},
          "execution_count": 46
        }
      ]
    },
    {
      "cell_type": "code",
      "source": [
        "#36 VIMACDG2 Have you EVER been told by an eye doctor or other health care professional that you had age-related macular degeneration?\n",
        "# Changee 2 to 0 to represent no \n",
        "Data_2015_selected['VIMACDG2'] = Data_2015_selected['VIMACDG2'].replace({2:0})\n",
        "Data_2015_selected.VIMACDG2.unique()"
      ],
      "metadata": {
        "id": "FMKS5ZGzipQs",
        "colab": {
          "base_uri": "https://localhost:8080/"
        },
        "outputId": "7c691495-4f58-45df-e69f-8519caa3e758"
      },
      "execution_count": null,
      "outputs": [
        {
          "output_type": "stream",
          "name": "stderr",
          "text": [
            "/usr/local/lib/python3.7/dist-packages/ipykernel_launcher.py:3: SettingWithCopyWarning: \n",
            "A value is trying to be set on a copy of a slice from a DataFrame.\n",
            "Try using .loc[row_indexer,col_indexer] = value instead\n",
            "\n",
            "See the caveats in the documentation: https://pandas.pydata.org/pandas-docs/stable/user_guide/indexing.html#returning-a-view-versus-a-copy\n",
            "  This is separate from the ipykernel package so we can avoid doing imports until\n"
          ]
        },
        {
          "output_type": "execute_result",
          "data": {
            "text/plain": [
              "array([nan,  0.,  1.,  7.])"
            ]
          },
          "metadata": {},
          "execution_count": 47
        }
      ]
    },
    {
      "cell_type": "code",
      "source": [
        "#37 CIMEMLOS During the past 12 months, have you experienced confusion or memory loss that is happening more often or is getting worse?\n",
        "# Changee 2 to 0 to represent no \n",
        "Data_2015_selected['CIMEMLOS'] = Data_2015_selected['CIMEMLOS'].replace({2:0})\n",
        "Data_2015_selected.CIMEMLOS.unique()\n"
      ],
      "metadata": {
        "id": "77LU1-B7ipI4",
        "colab": {
          "base_uri": "https://localhost:8080/"
        },
        "outputId": "91593217-bfcb-4fc3-b383-3263a745a0cd"
      },
      "execution_count": null,
      "outputs": [
        {
          "output_type": "stream",
          "name": "stderr",
          "text": [
            "/usr/local/lib/python3.7/dist-packages/ipykernel_launcher.py:3: SettingWithCopyWarning: \n",
            "A value is trying to be set on a copy of a slice from a DataFrame.\n",
            "Try using .loc[row_indexer,col_indexer] = value instead\n",
            "\n",
            "See the caveats in the documentation: https://pandas.pydata.org/pandas-docs/stable/user_guide/indexing.html#returning-a-view-versus-a-copy\n",
            "  This is separate from the ipykernel package so we can avoid doing imports until\n"
          ]
        },
        {
          "output_type": "execute_result",
          "data": {
            "text/plain": [
              "array([nan,  1.,  0.,  7.,  9.])"
            ]
          },
          "metadata": {},
          "execution_count": 48
        }
      ]
    },
    {
      "cell_type": "code",
      "source": [
        "#38 DRADVISE Are you currently watching or reducing your sodium or salt intake?\n",
        "# Changee 2 to 0 to represent no \n",
        "Data_2015_selected['DRADVISE'] = Data_2015_selected['DRADVISE'].replace({2:0})\n",
        "Data_2015_selected.DRADVISE.unique()\n"
      ],
      "metadata": {
        "id": "FBfOgSzvipBE",
        "colab": {
          "base_uri": "https://localhost:8080/"
        },
        "outputId": "6c4046aa-b73a-4b79-a8c8-e86fa6fe8bba"
      },
      "execution_count": null,
      "outputs": [
        {
          "output_type": "execute_result",
          "data": {
            "text/plain": [
              "array([nan,  0.,  1.,  9.,  7.])"
            ]
          },
          "metadata": {},
          "execution_count": 49
        }
      ]
    },
    {
      "cell_type": "code",
      "source": [
        "#39 ASNOSLEP During the past 30 days, how many days did symptoms of asthma make it difficult for you to stay asleep? Would you say\n",
        "# Changee 8 to 0 to represent no \n",
        "Data_2015_selected['ASNOSLEP'] = Data_2015_selected['ASNOSLEP'].replace({8:0})\n",
        "Data_2015_selected.ASNOSLEP.unique()\n"
      ],
      "metadata": {
        "id": "BtxxQfc1io3s",
        "colab": {
          "base_uri": "https://localhost:8080/"
        },
        "outputId": "61b9b2ab-3273-4176-a508-d0145b1ec397"
      },
      "execution_count": null,
      "outputs": [
        {
          "output_type": "execute_result",
          "data": {
            "text/plain": [
              "array([nan,  0.,  1.,  2.,  3.,  5.,  4.,  7.])"
            ]
          },
          "metadata": {},
          "execution_count": 50
        }
      ]
    },
    {
      "cell_type": "code",
      "source": [
        "#40 ADSLEEP Over the last 2 weeks, how many days have you had trouble falling asleep or staying asleep or sleeping too much?\n",
        "# Changee 88 to 0 to represent no \n",
        "Data_2015_selected['ADSLEEP'] = Data_2015_selected['ADSLEEP'].replace({88:0})\n",
        "Data_2015_selected.ADSLEEP.unique()"
      ],
      "metadata": {
        "id": "MugZv6mqioul",
        "colab": {
          "base_uri": "https://localhost:8080/"
        },
        "outputId": "996721fb-25d2-4d37-9dbf-8f1244a9b211"
      },
      "execution_count": null,
      "outputs": [
        {
          "output_type": "execute_result",
          "data": {
            "text/plain": [
              "array([nan,  0.,  7., 14.,  3.,  5.,  4.,  2., 77.,  8., 12., 10.,  9.,\n",
              "        1.,  6., 13., 11., 99.])"
            ]
          },
          "metadata": {},
          "execution_count": 51
        }
      ]
    },
    {
      "cell_type": "code",
      "source": [
        "#41 SEX Indicate sex of respondent leave as is"
      ],
      "metadata": {
        "id": "FYXiFgBrioa1"
      },
      "execution_count": null,
      "outputs": []
    },
    {
      "cell_type": "code",
      "source": [
        "#42 AGEG5YR\n",
        "# already ordinal. 1 is 18-24 all the way up to 13 wis 80 and older. 5 year increments.\n",
        "# remove 14 because it is don't know or missing\n",
        "Data_2015_selected = Data_2015_selected[Data_2015_selected._AGEG5YR != 14]\n",
        "Data_2015_selected._AGEG5YR.unique()"
      ],
      "metadata": {
        "id": "eYdPuy2prW5N",
        "colab": {
          "base_uri": "https://localhost:8080/"
        },
        "outputId": "868400e4-e692-4277-f868-500b403021df"
      },
      "execution_count": null,
      "outputs": [
        {
          "output_type": "execute_result",
          "data": {
            "text/plain": [
              "array([ 9.,  7., 11., 13., 10., 12.,  8.,  4.,  6.,  2.,  3.,  5.,  1.])"
            ]
          },
          "metadata": {},
          "execution_count": 53
        }
      ]
    },
    {
      "cell_type": "code",
      "source": [
        "Data_2015_selected.shape"
      ],
      "metadata": {
        "id": "ed_etpVvEyhY",
        "colab": {
          "base_uri": "https://localhost:8080/"
        },
        "outputId": "27b5b030-49be-414b-de42-cc6778a355f0"
      },
      "execution_count": null,
      "outputs": [
        {
          "output_type": "execute_result",
          "data": {
            "text/plain": [
              "(325844, 41)"
            ]
          },
          "metadata": {},
          "execution_count": 54
        }
      ]
    },
    {
      "cell_type": "code",
      "source": [
        "Data_2015_selected.head()"
      ],
      "metadata": {
        "id": "pBfSAPfQmTMQ",
        "colab": {
          "base_uri": "https://localhost:8080/",
          "height": 300
        },
        "outputId": "9ab26909-a315-4eb3-8cb0-3218fa539d90"
      },
      "execution_count": null,
      "outputs": [
        {
          "output_type": "execute_result",
          "data": {
            "text/plain": [
              "   _RFHLTH  _HCVU651  _RFHYPE5  _RFCHOL  _MICHD  _ASTHMS1  _DRDXAR1  _RACE  \\\n",
              "0      0.0       1.0       1.0      1.0     0.0       1.0       1.0    1.0   \n",
              "1      1.0       0.0       0.0      0.0     0.0       0.0       0.0    1.0   \n",
              "3      0.0       1.0       1.0      1.0     0.0       0.0       1.0    1.0   \n",
              "5      1.0       9.0       1.0      0.0     0.0       0.0       1.0    1.0   \n",
              "6      1.0       9.0       1.0      1.0     0.0       0.0       0.0    7.0   \n",
              "\n",
              "   _BMI5CAT  _RFBMI5  ...  INSULIN  VICTRCT4  VIGLUMA2  VIMACDG2  CIMEMLOS  \\\n",
              "0       4.0      1.0  ...      NaN       NaN       NaN       NaN       NaN   \n",
              "1       3.0      1.0  ...      NaN       NaN       NaN       NaN       1.0   \n",
              "3       3.0      1.0  ...      NaN       NaN       NaN       NaN       1.0   \n",
              "5       3.0      1.0  ...      NaN       NaN       NaN       NaN       0.0   \n",
              "6       2.0      0.0  ...      NaN       NaN       NaN       NaN       0.0   \n",
              "\n",
              "   DRADVISE  ASNOSLEP  ADSLEEP  SEX  _AGEG5YR  \n",
              "0       NaN       NaN      NaN  2.0       9.0  \n",
              "1       0.0       NaN      NaN  2.0       7.0  \n",
              "3       0.0       NaN      NaN  2.0       9.0  \n",
              "5       0.0       NaN      NaN  2.0      11.0  \n",
              "6       1.0       NaN      NaN  2.0      11.0  \n",
              "\n",
              "[5 rows x 41 columns]"
            ],
            "text/html": [
              "\n",
              "  <div id=\"df-1ac0c445-e18d-451f-8a61-e3f0e65a1250\">\n",
              "    <div class=\"colab-df-container\">\n",
              "      <div>\n",
              "<style scoped>\n",
              "    .dataframe tbody tr th:only-of-type {\n",
              "        vertical-align: middle;\n",
              "    }\n",
              "\n",
              "    .dataframe tbody tr th {\n",
              "        vertical-align: top;\n",
              "    }\n",
              "\n",
              "    .dataframe thead th {\n",
              "        text-align: right;\n",
              "    }\n",
              "</style>\n",
              "<table border=\"1\" class=\"dataframe\">\n",
              "  <thead>\n",
              "    <tr style=\"text-align: right;\">\n",
              "      <th></th>\n",
              "      <th>_RFHLTH</th>\n",
              "      <th>_HCVU651</th>\n",
              "      <th>_RFHYPE5</th>\n",
              "      <th>_RFCHOL</th>\n",
              "      <th>_MICHD</th>\n",
              "      <th>_ASTHMS1</th>\n",
              "      <th>_DRDXAR1</th>\n",
              "      <th>_RACE</th>\n",
              "      <th>_BMI5CAT</th>\n",
              "      <th>_RFBMI5</th>\n",
              "      <th>...</th>\n",
              "      <th>INSULIN</th>\n",
              "      <th>VICTRCT4</th>\n",
              "      <th>VIGLUMA2</th>\n",
              "      <th>VIMACDG2</th>\n",
              "      <th>CIMEMLOS</th>\n",
              "      <th>DRADVISE</th>\n",
              "      <th>ASNOSLEP</th>\n",
              "      <th>ADSLEEP</th>\n",
              "      <th>SEX</th>\n",
              "      <th>_AGEG5YR</th>\n",
              "    </tr>\n",
              "  </thead>\n",
              "  <tbody>\n",
              "    <tr>\n",
              "      <th>0</th>\n",
              "      <td>0.0</td>\n",
              "      <td>1.0</td>\n",
              "      <td>1.0</td>\n",
              "      <td>1.0</td>\n",
              "      <td>0.0</td>\n",
              "      <td>1.0</td>\n",
              "      <td>1.0</td>\n",
              "      <td>1.0</td>\n",
              "      <td>4.0</td>\n",
              "      <td>1.0</td>\n",
              "      <td>...</td>\n",
              "      <td>NaN</td>\n",
              "      <td>NaN</td>\n",
              "      <td>NaN</td>\n",
              "      <td>NaN</td>\n",
              "      <td>NaN</td>\n",
              "      <td>NaN</td>\n",
              "      <td>NaN</td>\n",
              "      <td>NaN</td>\n",
              "      <td>2.0</td>\n",
              "      <td>9.0</td>\n",
              "    </tr>\n",
              "    <tr>\n",
              "      <th>1</th>\n",
              "      <td>1.0</td>\n",
              "      <td>0.0</td>\n",
              "      <td>0.0</td>\n",
              "      <td>0.0</td>\n",
              "      <td>0.0</td>\n",
              "      <td>0.0</td>\n",
              "      <td>0.0</td>\n",
              "      <td>1.0</td>\n",
              "      <td>3.0</td>\n",
              "      <td>1.0</td>\n",
              "      <td>...</td>\n",
              "      <td>NaN</td>\n",
              "      <td>NaN</td>\n",
              "      <td>NaN</td>\n",
              "      <td>NaN</td>\n",
              "      <td>1.0</td>\n",
              "      <td>0.0</td>\n",
              "      <td>NaN</td>\n",
              "      <td>NaN</td>\n",
              "      <td>2.0</td>\n",
              "      <td>7.0</td>\n",
              "    </tr>\n",
              "    <tr>\n",
              "      <th>3</th>\n",
              "      <td>0.0</td>\n",
              "      <td>1.0</td>\n",
              "      <td>1.0</td>\n",
              "      <td>1.0</td>\n",
              "      <td>0.0</td>\n",
              "      <td>0.0</td>\n",
              "      <td>1.0</td>\n",
              "      <td>1.0</td>\n",
              "      <td>3.0</td>\n",
              "      <td>1.0</td>\n",
              "      <td>...</td>\n",
              "      <td>NaN</td>\n",
              "      <td>NaN</td>\n",
              "      <td>NaN</td>\n",
              "      <td>NaN</td>\n",
              "      <td>1.0</td>\n",
              "      <td>0.0</td>\n",
              "      <td>NaN</td>\n",
              "      <td>NaN</td>\n",
              "      <td>2.0</td>\n",
              "      <td>9.0</td>\n",
              "    </tr>\n",
              "    <tr>\n",
              "      <th>5</th>\n",
              "      <td>1.0</td>\n",
              "      <td>9.0</td>\n",
              "      <td>1.0</td>\n",
              "      <td>0.0</td>\n",
              "      <td>0.0</td>\n",
              "      <td>0.0</td>\n",
              "      <td>1.0</td>\n",
              "      <td>1.0</td>\n",
              "      <td>3.0</td>\n",
              "      <td>1.0</td>\n",
              "      <td>...</td>\n",
              "      <td>NaN</td>\n",
              "      <td>NaN</td>\n",
              "      <td>NaN</td>\n",
              "      <td>NaN</td>\n",
              "      <td>0.0</td>\n",
              "      <td>0.0</td>\n",
              "      <td>NaN</td>\n",
              "      <td>NaN</td>\n",
              "      <td>2.0</td>\n",
              "      <td>11.0</td>\n",
              "    </tr>\n",
              "    <tr>\n",
              "      <th>6</th>\n",
              "      <td>1.0</td>\n",
              "      <td>9.0</td>\n",
              "      <td>1.0</td>\n",
              "      <td>1.0</td>\n",
              "      <td>0.0</td>\n",
              "      <td>0.0</td>\n",
              "      <td>0.0</td>\n",
              "      <td>7.0</td>\n",
              "      <td>2.0</td>\n",
              "      <td>0.0</td>\n",
              "      <td>...</td>\n",
              "      <td>NaN</td>\n",
              "      <td>NaN</td>\n",
              "      <td>NaN</td>\n",
              "      <td>NaN</td>\n",
              "      <td>0.0</td>\n",
              "      <td>1.0</td>\n",
              "      <td>NaN</td>\n",
              "      <td>NaN</td>\n",
              "      <td>2.0</td>\n",
              "      <td>11.0</td>\n",
              "    </tr>\n",
              "  </tbody>\n",
              "</table>\n",
              "<p>5 rows × 41 columns</p>\n",
              "</div>\n",
              "      <button class=\"colab-df-convert\" onclick=\"convertToInteractive('df-1ac0c445-e18d-451f-8a61-e3f0e65a1250')\"\n",
              "              title=\"Convert this dataframe to an interactive table.\"\n",
              "              style=\"display:none;\">\n",
              "        \n",
              "  <svg xmlns=\"http://www.w3.org/2000/svg\" height=\"24px\"viewBox=\"0 0 24 24\"\n",
              "       width=\"24px\">\n",
              "    <path d=\"M0 0h24v24H0V0z\" fill=\"none\"/>\n",
              "    <path d=\"M18.56 5.44l.94 2.06.94-2.06 2.06-.94-2.06-.94-.94-2.06-.94 2.06-2.06.94zm-11 1L8.5 8.5l.94-2.06 2.06-.94-2.06-.94L8.5 2.5l-.94 2.06-2.06.94zm10 10l.94 2.06.94-2.06 2.06-.94-2.06-.94-.94-2.06-.94 2.06-2.06.94z\"/><path d=\"M17.41 7.96l-1.37-1.37c-.4-.4-.92-.59-1.43-.59-.52 0-1.04.2-1.43.59L10.3 9.45l-7.72 7.72c-.78.78-.78 2.05 0 2.83L4 21.41c.39.39.9.59 1.41.59.51 0 1.02-.2 1.41-.59l7.78-7.78 2.81-2.81c.8-.78.8-2.07 0-2.86zM5.41 20L4 18.59l7.72-7.72 1.47 1.35L5.41 20z\"/>\n",
              "  </svg>\n",
              "      </button>\n",
              "      \n",
              "  <style>\n",
              "    .colab-df-container {\n",
              "      display:flex;\n",
              "      flex-wrap:wrap;\n",
              "      gap: 12px;\n",
              "    }\n",
              "\n",
              "    .colab-df-convert {\n",
              "      background-color: #E8F0FE;\n",
              "      border: none;\n",
              "      border-radius: 50%;\n",
              "      cursor: pointer;\n",
              "      display: none;\n",
              "      fill: #1967D2;\n",
              "      height: 32px;\n",
              "      padding: 0 0 0 0;\n",
              "      width: 32px;\n",
              "    }\n",
              "\n",
              "    .colab-df-convert:hover {\n",
              "      background-color: #E2EBFA;\n",
              "      box-shadow: 0px 1px 2px rgba(60, 64, 67, 0.3), 0px 1px 3px 1px rgba(60, 64, 67, 0.15);\n",
              "      fill: #174EA6;\n",
              "    }\n",
              "\n",
              "    [theme=dark] .colab-df-convert {\n",
              "      background-color: #3B4455;\n",
              "      fill: #D2E3FC;\n",
              "    }\n",
              "\n",
              "    [theme=dark] .colab-df-convert:hover {\n",
              "      background-color: #434B5C;\n",
              "      box-shadow: 0px 1px 3px 1px rgba(0, 0, 0, 0.15);\n",
              "      filter: drop-shadow(0px 1px 2px rgba(0, 0, 0, 0.3));\n",
              "      fill: #FFFFFF;\n",
              "    }\n",
              "  </style>\n",
              "\n",
              "      <script>\n",
              "        const buttonEl =\n",
              "          document.querySelector('#df-1ac0c445-e18d-451f-8a61-e3f0e65a1250 button.colab-df-convert');\n",
              "        buttonEl.style.display =\n",
              "          google.colab.kernel.accessAllowed ? 'block' : 'none';\n",
              "\n",
              "        async function convertToInteractive(key) {\n",
              "          const element = document.querySelector('#df-1ac0c445-e18d-451f-8a61-e3f0e65a1250');\n",
              "          const dataTable =\n",
              "            await google.colab.kernel.invokeFunction('convertToInteractive',\n",
              "                                                     [key], {});\n",
              "          if (!dataTable) return;\n",
              "\n",
              "          const docLinkHtml = 'Like what you see? Visit the ' +\n",
              "            '<a target=\"_blank\" href=https://colab.research.google.com/notebooks/data_table.ipynb>data table notebook</a>'\n",
              "            + ' to learn more about interactive tables.';\n",
              "          element.innerHTML = '';\n",
              "          dataTable['output_type'] = 'display_data';\n",
              "          await google.colab.output.renderOutput(dataTable, element);\n",
              "          const docLink = document.createElement('div');\n",
              "          docLink.innerHTML = docLinkHtml;\n",
              "          element.appendChild(docLink);\n",
              "        }\n",
              "      </script>\n",
              "    </div>\n",
              "  </div>\n",
              "  "
            ]
          },
          "metadata": {},
          "execution_count": 55
        }
      ]
    },
    {
      "cell_type": "code",
      "source": [
        "#Check Class Sizes of the heart disease column\n",
        "Data_2015_selected.groupby(['DIABETE3']).size()"
      ],
      "metadata": {
        "id": "s82X5lbhmYlo",
        "colab": {
          "base_uri": "https://localhost:8080/"
        },
        "outputId": "6db25cbe-f894-4856-cb2c-a0930775efc5"
      },
      "execution_count": null,
      "outputs": [
        {
          "output_type": "execute_result",
          "data": {
            "text/plain": [
              "DIABETE3\n",
              "0.0    278341\n",
              "1.0      5568\n",
              "2.0     41932\n",
              "dtype: int64"
            ]
          },
          "metadata": {},
          "execution_count": 56
        }
      ]
    },
    {
      "cell_type": "code",
      "source": [
        "#Rename the columns to make them more readable\n",
        "Data_2015 = Data_2015_selected.rename(columns = {'_RFHLTH':'Good Health',\n",
        "                                                 '_HCVU651':'Health Coverage' , \n",
        "                                                 '_RFHYPE5':'High Blood Pressure',\n",
        "                                                 '_RFCHOL':'High Cholesterol',\n",
        "                                                 '_MICHD':'CHD-MI', \n",
        "                                                 '_ASTHMS1':'Asthma Status', \n",
        "                                                 '_DRDXAR1': 'Diagnosed Arthritis',\n",
        "                                                 '_RACE':'Race/Ethnicity',\n",
        "                                                 '_BMI5CAT':'BMI Category',\n",
        "                                                 '_RFBMI5':'Overweight/Obese',\n",
        "                                                 '_EDUCAG':'Education Level',\n",
        "                                                 '_INCOMG':'Income Category',\n",
        "                                                 '_SMOKER3':'Smoker Status',\n",
        "                                                 '_RFDRHV5':'Heavy Drinker',\n",
        "                                                 '_FRTLT1':'Consume Fruit', \n",
        "                                                 '_VEGLT1':'Consume Veggie',\n",
        "                                                 '_PACAT1':'Physical Activity Categories',\n",
        "                                                 '_PAINDX1':'Aerobic Reccomendations',\n",
        "                                                 '_PASTRNG':'Muscle Strengthening Recommendation',\n",
        "                                                 'PHYSHLTH':'Good Physical Health',\n",
        "                                                 'MENTHLTH':'Good Mental Health', \n",
        "                                                 'MEDCOST':'High Cost of Medical',\n",
        "                                                 'CHECKUP1':'Routine Check-up', \n",
        "                                                 'BPMEDS':'Taking BP Meds',\n",
        "                                                 'CHCSCNCR':'Skin Cancer', \n",
        "                                                 'CHCOCNCR':'Other Cancer',\n",
        "                                                 'CHCCOPD1':'Chronic Obstructive Pulmonary Disease', \n",
        "                                                 'ADDEPEV2':'Depressive Disorder', \n",
        "                                                 'CHCKIDNY':'Kidney Disease',\n",
        "                                                 'DIABETE3':'Have_Diabetes',\n",
        "                                                 'PREDIAB1':'Pre-diabetic', \n",
        "                                                 'INSULIN':'Taking Insulin', \n",
        "                                                 'VICTRCT4':'Have Cateracts',\n",
        "                                                 'VIGLUMA2':'Glaucoma',\n",
        "                                                 'VIMACDG2':'macular degeneration', \n",
        "                                                 'CIMEMLOS':'Memory Loss',\n",
        "                                                 'DRADVISE':'Watching sodium', \n",
        "                                                 'ASNOSLEP':'Sleep Disordered Breathing',\n",
        "                                                 'ADSLEEP':'Trouble sleeping', \n",
        "                                                 'SEX':'Sex',\n",
        "                                                 '_AGEG5YR':'Age'})"
      ],
      "metadata": {
        "id": "yIBHRORdmsz-"
      },
      "execution_count": null,
      "outputs": []
    },
    {
      "cell_type": "code",
      "source": [
        "Data_2015.head()"
      ],
      "metadata": {
        "id": "KNZz7qp2sG6r",
        "colab": {
          "base_uri": "https://localhost:8080/",
          "height": 334
        },
        "outputId": "dbb46277-1c48-4a7f-9466-96b62e31abcc"
      },
      "execution_count": null,
      "outputs": [
        {
          "output_type": "execute_result",
          "data": {
            "text/plain": [
              "   Good Health  Health Coverage  High Blood Pressure  High Cholesterol  \\\n",
              "0          0.0              1.0                  1.0               1.0   \n",
              "1          1.0              0.0                  0.0               0.0   \n",
              "3          0.0              1.0                  1.0               1.0   \n",
              "5          1.0              9.0                  1.0               0.0   \n",
              "6          1.0              9.0                  1.0               1.0   \n",
              "\n",
              "   CHD-MI  Asthma Status  Diagnosed Arthritis  Race/Ethnicity  BMI Category  \\\n",
              "0     0.0            1.0                  1.0             1.0           4.0   \n",
              "1     0.0            0.0                  0.0             1.0           3.0   \n",
              "3     0.0            0.0                  1.0             1.0           3.0   \n",
              "5     0.0            0.0                  1.0             1.0           3.0   \n",
              "6     0.0            0.0                  0.0             7.0           2.0   \n",
              "\n",
              "   Overweight/Obese  ...  Taking Insulin  Have Cateracts  Glaucoma  \\\n",
              "0               1.0  ...             NaN             NaN       NaN   \n",
              "1               1.0  ...             NaN             NaN       NaN   \n",
              "3               1.0  ...             NaN             NaN       NaN   \n",
              "5               1.0  ...             NaN             NaN       NaN   \n",
              "6               0.0  ...             NaN             NaN       NaN   \n",
              "\n",
              "   macular degeneration  Memory Loss  Watching sodium  \\\n",
              "0                   NaN          NaN              NaN   \n",
              "1                   NaN          1.0              0.0   \n",
              "3                   NaN          1.0              0.0   \n",
              "5                   NaN          0.0              0.0   \n",
              "6                   NaN          0.0              1.0   \n",
              "\n",
              "   Sleep Disordered Breathing  Trouble sleeping  Sex   Age  \n",
              "0                         NaN               NaN  2.0   9.0  \n",
              "1                         NaN               NaN  2.0   7.0  \n",
              "3                         NaN               NaN  2.0   9.0  \n",
              "5                         NaN               NaN  2.0  11.0  \n",
              "6                         NaN               NaN  2.0  11.0  \n",
              "\n",
              "[5 rows x 41 columns]"
            ],
            "text/html": [
              "\n",
              "  <div id=\"df-bcac7322-a94f-40cd-b381-03e1532fe3d8\">\n",
              "    <div class=\"colab-df-container\">\n",
              "      <div>\n",
              "<style scoped>\n",
              "    .dataframe tbody tr th:only-of-type {\n",
              "        vertical-align: middle;\n",
              "    }\n",
              "\n",
              "    .dataframe tbody tr th {\n",
              "        vertical-align: top;\n",
              "    }\n",
              "\n",
              "    .dataframe thead th {\n",
              "        text-align: right;\n",
              "    }\n",
              "</style>\n",
              "<table border=\"1\" class=\"dataframe\">\n",
              "  <thead>\n",
              "    <tr style=\"text-align: right;\">\n",
              "      <th></th>\n",
              "      <th>Good Health</th>\n",
              "      <th>Health Coverage</th>\n",
              "      <th>High Blood Pressure</th>\n",
              "      <th>High Cholesterol</th>\n",
              "      <th>CHD-MI</th>\n",
              "      <th>Asthma Status</th>\n",
              "      <th>Diagnosed Arthritis</th>\n",
              "      <th>Race/Ethnicity</th>\n",
              "      <th>BMI Category</th>\n",
              "      <th>Overweight/Obese</th>\n",
              "      <th>...</th>\n",
              "      <th>Taking Insulin</th>\n",
              "      <th>Have Cateracts</th>\n",
              "      <th>Glaucoma</th>\n",
              "      <th>macular degeneration</th>\n",
              "      <th>Memory Loss</th>\n",
              "      <th>Watching sodium</th>\n",
              "      <th>Sleep Disordered Breathing</th>\n",
              "      <th>Trouble sleeping</th>\n",
              "      <th>Sex</th>\n",
              "      <th>Age</th>\n",
              "    </tr>\n",
              "  </thead>\n",
              "  <tbody>\n",
              "    <tr>\n",
              "      <th>0</th>\n",
              "      <td>0.0</td>\n",
              "      <td>1.0</td>\n",
              "      <td>1.0</td>\n",
              "      <td>1.0</td>\n",
              "      <td>0.0</td>\n",
              "      <td>1.0</td>\n",
              "      <td>1.0</td>\n",
              "      <td>1.0</td>\n",
              "      <td>4.0</td>\n",
              "      <td>1.0</td>\n",
              "      <td>...</td>\n",
              "      <td>NaN</td>\n",
              "      <td>NaN</td>\n",
              "      <td>NaN</td>\n",
              "      <td>NaN</td>\n",
              "      <td>NaN</td>\n",
              "      <td>NaN</td>\n",
              "      <td>NaN</td>\n",
              "      <td>NaN</td>\n",
              "      <td>2.0</td>\n",
              "      <td>9.0</td>\n",
              "    </tr>\n",
              "    <tr>\n",
              "      <th>1</th>\n",
              "      <td>1.0</td>\n",
              "      <td>0.0</td>\n",
              "      <td>0.0</td>\n",
              "      <td>0.0</td>\n",
              "      <td>0.0</td>\n",
              "      <td>0.0</td>\n",
              "      <td>0.0</td>\n",
              "      <td>1.0</td>\n",
              "      <td>3.0</td>\n",
              "      <td>1.0</td>\n",
              "      <td>...</td>\n",
              "      <td>NaN</td>\n",
              "      <td>NaN</td>\n",
              "      <td>NaN</td>\n",
              "      <td>NaN</td>\n",
              "      <td>1.0</td>\n",
              "      <td>0.0</td>\n",
              "      <td>NaN</td>\n",
              "      <td>NaN</td>\n",
              "      <td>2.0</td>\n",
              "      <td>7.0</td>\n",
              "    </tr>\n",
              "    <tr>\n",
              "      <th>3</th>\n",
              "      <td>0.0</td>\n",
              "      <td>1.0</td>\n",
              "      <td>1.0</td>\n",
              "      <td>1.0</td>\n",
              "      <td>0.0</td>\n",
              "      <td>0.0</td>\n",
              "      <td>1.0</td>\n",
              "      <td>1.0</td>\n",
              "      <td>3.0</td>\n",
              "      <td>1.0</td>\n",
              "      <td>...</td>\n",
              "      <td>NaN</td>\n",
              "      <td>NaN</td>\n",
              "      <td>NaN</td>\n",
              "      <td>NaN</td>\n",
              "      <td>1.0</td>\n",
              "      <td>0.0</td>\n",
              "      <td>NaN</td>\n",
              "      <td>NaN</td>\n",
              "      <td>2.0</td>\n",
              "      <td>9.0</td>\n",
              "    </tr>\n",
              "    <tr>\n",
              "      <th>5</th>\n",
              "      <td>1.0</td>\n",
              "      <td>9.0</td>\n",
              "      <td>1.0</td>\n",
              "      <td>0.0</td>\n",
              "      <td>0.0</td>\n",
              "      <td>0.0</td>\n",
              "      <td>1.0</td>\n",
              "      <td>1.0</td>\n",
              "      <td>3.0</td>\n",
              "      <td>1.0</td>\n",
              "      <td>...</td>\n",
              "      <td>NaN</td>\n",
              "      <td>NaN</td>\n",
              "      <td>NaN</td>\n",
              "      <td>NaN</td>\n",
              "      <td>0.0</td>\n",
              "      <td>0.0</td>\n",
              "      <td>NaN</td>\n",
              "      <td>NaN</td>\n",
              "      <td>2.0</td>\n",
              "      <td>11.0</td>\n",
              "    </tr>\n",
              "    <tr>\n",
              "      <th>6</th>\n",
              "      <td>1.0</td>\n",
              "      <td>9.0</td>\n",
              "      <td>1.0</td>\n",
              "      <td>1.0</td>\n",
              "      <td>0.0</td>\n",
              "      <td>0.0</td>\n",
              "      <td>0.0</td>\n",
              "      <td>7.0</td>\n",
              "      <td>2.0</td>\n",
              "      <td>0.0</td>\n",
              "      <td>...</td>\n",
              "      <td>NaN</td>\n",
              "      <td>NaN</td>\n",
              "      <td>NaN</td>\n",
              "      <td>NaN</td>\n",
              "      <td>0.0</td>\n",
              "      <td>1.0</td>\n",
              "      <td>NaN</td>\n",
              "      <td>NaN</td>\n",
              "      <td>2.0</td>\n",
              "      <td>11.0</td>\n",
              "    </tr>\n",
              "  </tbody>\n",
              "</table>\n",
              "<p>5 rows × 41 columns</p>\n",
              "</div>\n",
              "      <button class=\"colab-df-convert\" onclick=\"convertToInteractive('df-bcac7322-a94f-40cd-b381-03e1532fe3d8')\"\n",
              "              title=\"Convert this dataframe to an interactive table.\"\n",
              "              style=\"display:none;\">\n",
              "        \n",
              "  <svg xmlns=\"http://www.w3.org/2000/svg\" height=\"24px\"viewBox=\"0 0 24 24\"\n",
              "       width=\"24px\">\n",
              "    <path d=\"M0 0h24v24H0V0z\" fill=\"none\"/>\n",
              "    <path d=\"M18.56 5.44l.94 2.06.94-2.06 2.06-.94-2.06-.94-.94-2.06-.94 2.06-2.06.94zm-11 1L8.5 8.5l.94-2.06 2.06-.94-2.06-.94L8.5 2.5l-.94 2.06-2.06.94zm10 10l.94 2.06.94-2.06 2.06-.94-2.06-.94-.94-2.06-.94 2.06-2.06.94z\"/><path d=\"M17.41 7.96l-1.37-1.37c-.4-.4-.92-.59-1.43-.59-.52 0-1.04.2-1.43.59L10.3 9.45l-7.72 7.72c-.78.78-.78 2.05 0 2.83L4 21.41c.39.39.9.59 1.41.59.51 0 1.02-.2 1.41-.59l7.78-7.78 2.81-2.81c.8-.78.8-2.07 0-2.86zM5.41 20L4 18.59l7.72-7.72 1.47 1.35L5.41 20z\"/>\n",
              "  </svg>\n",
              "      </button>\n",
              "      \n",
              "  <style>\n",
              "    .colab-df-container {\n",
              "      display:flex;\n",
              "      flex-wrap:wrap;\n",
              "      gap: 12px;\n",
              "    }\n",
              "\n",
              "    .colab-df-convert {\n",
              "      background-color: #E8F0FE;\n",
              "      border: none;\n",
              "      border-radius: 50%;\n",
              "      cursor: pointer;\n",
              "      display: none;\n",
              "      fill: #1967D2;\n",
              "      height: 32px;\n",
              "      padding: 0 0 0 0;\n",
              "      width: 32px;\n",
              "    }\n",
              "\n",
              "    .colab-df-convert:hover {\n",
              "      background-color: #E2EBFA;\n",
              "      box-shadow: 0px 1px 2px rgba(60, 64, 67, 0.3), 0px 1px 3px 1px rgba(60, 64, 67, 0.15);\n",
              "      fill: #174EA6;\n",
              "    }\n",
              "\n",
              "    [theme=dark] .colab-df-convert {\n",
              "      background-color: #3B4455;\n",
              "      fill: #D2E3FC;\n",
              "    }\n",
              "\n",
              "    [theme=dark] .colab-df-convert:hover {\n",
              "      background-color: #434B5C;\n",
              "      box-shadow: 0px 1px 3px 1px rgba(0, 0, 0, 0.15);\n",
              "      filter: drop-shadow(0px 1px 2px rgba(0, 0, 0, 0.3));\n",
              "      fill: #FFFFFF;\n",
              "    }\n",
              "  </style>\n",
              "\n",
              "      <script>\n",
              "        const buttonEl =\n",
              "          document.querySelector('#df-bcac7322-a94f-40cd-b381-03e1532fe3d8 button.colab-df-convert');\n",
              "        buttonEl.style.display =\n",
              "          google.colab.kernel.accessAllowed ? 'block' : 'none';\n",
              "\n",
              "        async function convertToInteractive(key) {\n",
              "          const element = document.querySelector('#df-bcac7322-a94f-40cd-b381-03e1532fe3d8');\n",
              "          const dataTable =\n",
              "            await google.colab.kernel.invokeFunction('convertToInteractive',\n",
              "                                                     [key], {});\n",
              "          if (!dataTable) return;\n",
              "\n",
              "          const docLinkHtml = 'Like what you see? Visit the ' +\n",
              "            '<a target=\"_blank\" href=https://colab.research.google.com/notebooks/data_table.ipynb>data table notebook</a>'\n",
              "            + ' to learn more about interactive tables.';\n",
              "          element.innerHTML = '';\n",
              "          dataTable['output_type'] = 'display_data';\n",
              "          await google.colab.output.renderOutput(dataTable, element);\n",
              "          const docLink = document.createElement('div');\n",
              "          docLink.innerHTML = docLinkHtml;\n",
              "          element.appendChild(docLink);\n",
              "        }\n",
              "      </script>\n",
              "    </div>\n",
              "  </div>\n",
              "  "
            ]
          },
          "metadata": {},
          "execution_count": 58
        }
      ]
    },
    {
      "cell_type": "code",
      "source": [
        "Data_2015.shape"
      ],
      "metadata": {
        "id": "2qhJ9g2gsMjN",
        "colab": {
          "base_uri": "https://localhost:8080/"
        },
        "outputId": "9837dc7f-04bd-4de9-cefc-a72bb713ce91"
      },
      "execution_count": null,
      "outputs": [
        {
          "output_type": "execute_result",
          "data": {
            "text/plain": [
              "(325844, 41)"
            ]
          },
          "metadata": {},
          "execution_count": 59
        }
      ]
    },
    {
      "cell_type": "code",
      "source": [
        "#Check how many respondents have no diabetes, prediabetes or diabetes. Note the class imbalance!\n",
        "Data_2015.groupby(['Have_Diabetes']).size()"
      ],
      "metadata": {
        "id": "i_GAnWdfsP3D",
        "colab": {
          "base_uri": "https://localhost:8080/"
        },
        "outputId": "82cb41a1-f561-4cf4-fe80-fb321dbde075"
      },
      "execution_count": null,
      "outputs": [
        {
          "output_type": "execute_result",
          "data": {
            "text/plain": [
              "Have_Diabetes\n",
              "0.0    278341\n",
              "1.0      5568\n",
              "2.0     41932\n",
              "dtype: int64"
            ]
          },
          "metadata": {},
          "execution_count": 60
        }
      ]
    },
    {
      "cell_type": "code",
      "source": [
        "Data_2015.to_csv('./Clean_data.csv', sep=\",\", index=False)"
      ],
      "metadata": {
        "id": "nQbY5sS2sh4W"
      },
      "execution_count": null,
      "outputs": []
    },
    {
      "cell_type": "code",
      "source": [
        "# Change prediabetic to non-diabetic to make the data set binary for ease\n",
        "Data_2015B = Data_2015\n",
        "Data_2015B['Have_Diabetes']= Data_2015B['Have_Diabetes'].replace({1:0})\n",
        "Data_2015B['Have_Diabetes']= Data_2015B['Have_Diabetes'].replace({2:1})\n",
        "Data_2015B.Have_Diabetes.unique()"
      ],
      "metadata": {
        "id": "wp0pqMZ6wsQ-"
      },
      "execution_count": null,
      "outputs": []
    },
    {
      "cell_type": "code",
      "source": [
        "Data_2015B.groupby('Have_Diabetes').size()"
      ],
      "metadata": {
        "id": "w0NZGsu4w1zy"
      },
      "execution_count": null,
      "outputs": []
    },
    {
      "cell_type": "code",
      "source": [
        "Data_2015B.to_csv('diabetes_B.csv', sep=\",\", index=False)"
      ],
      "metadata": {
        "id": "BHxcmNeKw2hd"
      },
      "execution_count": null,
      "outputs": []
    }
  ]
}